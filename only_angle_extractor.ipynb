{
 "cells": [
  {
   "cell_type": "code",
   "execution_count": 1,
   "id": "642c4171-7a8c-4fd1-a735-970960ccb3fa",
   "metadata": {},
   "outputs": [],
   "source": [
    "def __clear_env():\n",
    "    for key in globals().keys():\n",
    "        if not key.startswith(\"__\"):# 排除系统内建函数\n",
    "            globals().pop(key)\n",
    "__clear_env\n",
    "import example_pendulum_double_pendulum\n",
    "import torch; torch.manual_seed(0)\n",
    "import torch.nn as nn\n",
    "import torch.nn.functional as F\n",
    "import torch.utils\n",
    "import torch.distributions\n",
    "#import torchvision\n",
    "import numpy as np\n",
    "import os\n",
    "import matplotlib.pyplot as plt\n",
    "import pickle\n",
    "import csv\n",
    "import datetime\n",
    "from torch.autograd import Variable"
   ]
  },
  {
   "cell_type": "code",
   "execution_count": 2,
   "id": "76326faa-47ae-4ec0-8d70-812de3ec240a",
   "metadata": {},
   "outputs": [
    {
     "name": "stdout",
     "output_type": "stream",
     "text": [
      "./progress/2023-06-07/1\n"
     ]
    }
   ],
   "source": [
    "environment = \"server\"\n",
    "loss_log = []\n",
    "params = {}\n",
    "#params['learning_rate'] = trial.suggest_float('lr',0,1)\n",
    "params['epochs'] = 5000\n",
    "params['batch_size'] = 500\n",
    "if environment == 'laptop':\n",
    "    params['root_dir'] =R'C:\\Users\\87106\\OneDrive\\sindy\\progress'\n",
    "elif environment == 'desktop':\n",
    "    params['root_dir'] = R'E:\\OneDrive\\sindy\\progress'\n",
    "elif environment == 'server':\n",
    "    params['root_dir'] = R'./progress'\n",
    "params['learning_rate'] = 1e-8\n",
    "\n",
    "# save parameters\n",
    "params['if_save'] = True\n",
    "params['save_date'] = str(datetime.date.today())\n",
    "params['save_ver'] = '1'\n",
    "#load parameters\n",
    "params['if_load'] = True\n",
    "params['load_date'] = '2023-06-07'\n",
    "params['load_ver'] = '1'\n",
    "#noise setting\n",
    "params['adding_noise'] = False\n",
    "params['noise_type'] = 'angle_noise'\n",
    "params['noiselevel'] = 1e-3\n",
    "#pendulum length setting\n",
    "params['changing_length'] = True\n",
    "PATH = os.path.join(params['root_dir'], params['save_date'],params['save_ver'])\n",
    "loading_path = os.path.join(params['root_dir'], params['load_date'],params['load_ver'],'model.pth')\n",
    "print(PATH)"
   ]
  },
  {
   "cell_type": "code",
   "execution_count": 3,
   "id": "c6550da5-2d80-4a4e-b049-82e921c51a13",
   "metadata": {},
   "outputs": [
    {
     "name": "stdout",
     "output_type": "stream",
     "text": [
      "generating pendulum data, pendulum type: double pendulum\n",
      "(5000, 2)\n"
     ]
    }
   ],
   "source": [
    "device = 'cuda:6'\n",
    "data = example_pendulum_double_pendulum.get_pendulum_data(10,params)\n",
    "image = data['x']\n",
    "image_t = data['dx']\n",
    "image_tt = data['ddx']\n",
    "angle = data['z']\n",
    "angle_t = data['dz']\n",
    "angle_tt = data['ddz']\n",
    "print(angle.shape)"
   ]
  },
  {
   "cell_type": "code",
   "execution_count": 4,
   "id": "e6b3f118-fe7e-40aa-8727-e97655dd612a",
   "metadata": {},
   "outputs": [
    {
     "name": "stdout",
     "output_type": "stream",
     "text": [
      "(5000, 2)\n"
     ]
    }
   ],
   "source": [
    "print(angle_tt.shape)"
   ]
  },
  {
   "cell_type": "code",
   "execution_count": 5,
   "id": "5e2c1e4e-ec39-44e7-b546-a945a119721d",
   "metadata": {},
   "outputs": [],
   "source": [
    "class angle_predict(nn.Module):\n",
    "    def __init__(self):\n",
    "        super(angle_predict, self).__init__()\n",
    "        self.fc1 = nn.Linear(2601, 1024)\n",
    "        self.fc2 = nn.Linear(1024, 512)\n",
    "        self.fc3 = nn.Linear(512, 256)\n",
    "        self.fc4 = nn.Linear(256, 64)\n",
    "        self.fc5 = nn.Linear(64, 2)\n",
    "    def forward(self, x):\n",
    "        m = nn.ReLU()\n",
    "        x = self.fc1(x)\n",
    "        x = m(x)\n",
    "        x = self.fc2(x)\n",
    "        x = m(x)\n",
    "        x = self.fc3(x)\n",
    "        x = m(x)\n",
    "        x = self.fc4(x)\n",
    "        x = m(x) \n",
    "        x = self.fc5(x) \n",
    "        return x\n",
    "model = angle_predict()\n",
    "if params['if_load'] == True:\n",
    "    model.load_state_dict(torch.load(loading_path))\n",
    "model = model.to(device)"
   ]
  },
  {
   "cell_type": "code",
   "execution_count": null,
   "id": "10e0f4c1-9ada-4375-8b98-d0e332238be3",
   "metadata": {
    "tags": []
   },
   "outputs": [
    {
     "name": "stdout",
     "output_type": "stream",
     "text": [
      "epoch:  1 loss:  26.1713828125 \t loss_angle: 8.369021875 \t loss_angle_tt: 17.8023921875\n",
      "epoch:  51 loss:  25.6732359375 \t loss_angle: 8.3272140625 \t loss_angle_tt: 17.345975\n",
      "epoch:  101 loss:  25.5167390625 \t loss_angle: 8.3271734375 \t loss_angle_tt: 17.1896\n",
      "epoch:  151 loss:  25.41150625 \t loss_angle: 8.32713046875 \t loss_angle_tt: 17.084378125\n",
      "epoch:  201 loss:  25.3261734375 \t loss_angle: 8.32673671875 \t loss_angle_tt: 16.9994453125\n",
      "epoch:  251 loss:  25.250003125 \t loss_angle: 8.3262234375 \t loss_angle_tt: 16.9238171875\n",
      "epoch:  301 loss:  25.1805890625 \t loss_angle: 8.325934375 \t loss_angle_tt: 16.8546453125\n",
      "epoch:  351 loss:  25.1177984375 \t loss_angle: 8.32564609375 \t loss_angle_tt: 16.792103125\n",
      "epoch:  401 loss:  25.0588953125 \t loss_angle: 8.3254375 \t loss_angle_tt: 16.733421875\n",
      "epoch:  451 loss:  25.004228125 \t loss_angle: 8.3253390625 \t loss_angle_tt: 16.678921875\n",
      "epoch:  501 loss:  24.95365625 \t loss_angle: 8.32522421875 \t loss_angle_tt: 16.62841875\n",
      "epoch:  551 loss:  24.9057609375 \t loss_angle: 8.325115625 \t loss_angle_tt: 16.580646875\n",
      "epoch:  601 loss:  24.859878125 \t loss_angle: 8.32505078125 \t loss_angle_tt: 16.5348640625\n",
      "epoch:  651 loss:  24.8159609375 \t loss_angle: 8.3249953125 \t loss_angle_tt: 16.4909703125\n",
      "epoch:  701 loss:  24.77468125 \t loss_angle: 8.3248890625 \t loss_angle_tt: 16.4497515625\n",
      "epoch:  751 loss:  24.735059375 \t loss_angle: 8.3248109375 \t loss_angle_tt: 16.41018125\n",
      "epoch:  801 loss:  24.6967703125 \t loss_angle: 8.324840625 \t loss_angle_tt: 16.3719609375\n",
      "epoch:  851 loss:  24.659825 \t loss_angle: 8.3249296875 \t loss_angle_tt: 16.3349296875\n",
      "epoch:  901 loss:  24.6244171875 \t loss_angle: 8.325003125 \t loss_angle_tt: 16.2994484375\n",
      "epoch:  951 loss:  24.5897671875 \t loss_angle: 8.32511875 \t loss_angle_tt: 16.264678125\n",
      "epoch:  1001 loss:  24.556353125 \t loss_angle: 8.32522109375 \t loss_angle_tt: 16.231140625\n",
      "epoch:  1051 loss:  24.5235515625 \t loss_angle: 8.32533046875 \t loss_angle_tt: 16.19823125\n",
      "epoch:  1101 loss:  24.492003125 \t loss_angle: 8.32543046875 \t loss_angle_tt: 16.1666046875\n",
      "epoch:  1151 loss:  24.4614171875 \t loss_angle: 8.32551953125 \t loss_angle_tt: 16.1359359375\n",
      "epoch:  1201 loss:  24.4319203125 \t loss_angle: 8.32561796875 \t loss_angle_tt: 16.1063078125\n",
      "epoch:  1251 loss:  24.4034390625 \t loss_angle: 8.3257140625 \t loss_angle_tt: 16.07771875\n",
      "epoch:  1301 loss:  24.3757578125 \t loss_angle: 8.32577421875 \t loss_angle_tt: 16.049990625\n",
      "epoch:  1351 loss:  24.348775 \t loss_angle: 8.32589921875 \t loss_angle_tt: 16.0228609375\n",
      "epoch:  1401 loss:  24.322434375 \t loss_angle: 8.32597265625 \t loss_angle_tt: 15.9964953125\n",
      "epoch:  1451 loss:  24.2966015625 \t loss_angle: 8.3260046875 \t loss_angle_tt: 15.97060625\n",
      "epoch:  1501 loss:  24.271259375 \t loss_angle: 8.3260671875 \t loss_angle_tt: 15.9451875\n",
      "epoch:  1551 loss:  24.2464984375 \t loss_angle: 8.326090625 \t loss_angle_tt: 15.9203875\n",
      "epoch:  1601 loss:  24.222690625 \t loss_angle: 8.326109375 \t loss_angle_tt: 15.896584375\n",
      "epoch:  1651 loss:  24.199475 \t loss_angle: 8.32604609375 \t loss_angle_tt: 15.8734078125\n",
      "epoch:  1701 loss:  24.1765046875 \t loss_angle: 8.3260296875 \t loss_angle_tt: 15.85045625\n",
      "epoch:  1751 loss:  24.1537375 \t loss_angle: 8.32601171875 \t loss_angle_tt: 15.8277234375\n",
      "epoch:  1801 loss:  24.131434375 \t loss_angle: 8.3259828125 \t loss_angle_tt: 15.8054671875\n",
      "epoch:  1851 loss:  24.110028125 \t loss_angle: 8.32592890625 \t loss_angle_tt: 15.7840578125\n",
      "epoch:  1901 loss:  24.0891453125 \t loss_angle: 8.32587734375 \t loss_angle_tt: 15.763246875\n",
      "epoch:  1951 loss:  24.0689359375 \t loss_angle: 8.32585 \t loss_angle_tt: 15.743059375\n",
      "epoch:  2001 loss:  24.04915625 \t loss_angle: 8.32576875 \t loss_angle_tt: 15.723371875\n",
      "epoch:  2051 loss:  24.0297890625 \t loss_angle: 8.32572421875 \t loss_angle_tt: 15.704103125\n",
      "epoch:  2101 loss:  24.0110046875 \t loss_angle: 8.32563203125 \t loss_angle_tt: 15.685353125\n",
      "epoch:  2151 loss:  23.9926375 \t loss_angle: 8.32550234375 \t loss_angle_tt: 15.6670765625\n",
      "epoch:  2201 loss:  23.97456875 \t loss_angle: 8.325365625 \t loss_angle_tt: 15.6491921875\n",
      "epoch:  2251 loss:  23.95681875 \t loss_angle: 8.32520390625 \t loss_angle_tt: 15.631615625\n",
      "epoch:  2301 loss:  23.939415625 \t loss_angle: 8.32503671875 \t loss_angle_tt: 15.6144\n",
      "epoch:  2351 loss:  23.922421875 \t loss_angle: 8.32487578125 \t loss_angle_tt: 15.5975796875\n",
      "epoch:  2401 loss:  23.905734375 \t loss_angle: 8.3246765625 \t loss_angle_tt: 15.5810640625\n",
      "epoch:  2451 loss:  23.889290625 \t loss_angle: 8.32450546875 \t loss_angle_tt: 15.5648078125\n",
      "epoch:  2501 loss:  23.872871875 \t loss_angle: 8.32430859375 \t loss_angle_tt: 15.5486453125\n",
      "epoch:  2551 loss:  23.8565734375 \t loss_angle: 8.3241078125 \t loss_angle_tt: 15.5324578125\n",
      "epoch:  2601 loss:  23.84056875 \t loss_angle: 8.32391796875 \t loss_angle_tt: 15.51660625\n",
      "epoch:  2651 loss:  23.8246859375 \t loss_angle: 8.3237453125 \t loss_angle_tt: 15.500946875\n",
      "epoch:  2701 loss:  23.8092109375 \t loss_angle: 8.323540625 \t loss_angle_tt: 15.4856890625\n",
      "epoch:  2751 loss:  23.7939296875 \t loss_angle: 8.3232875 \t loss_angle_tt: 15.4706875\n",
      "epoch:  2801 loss:  23.778803125 \t loss_angle: 8.32306328125 \t loss_angle_tt: 15.455715625\n",
      "epoch:  2851 loss:  23.763834375 \t loss_angle: 8.32284609375 \t loss_angle_tt: 15.4410234375\n",
      "epoch:  2901 loss:  23.748996875 \t loss_angle: 8.32258203125 \t loss_angle_tt: 15.42640625\n",
      "epoch:  2951 loss:  23.7341984375 \t loss_angle: 8.3222828125 \t loss_angle_tt: 15.411915625\n",
      "epoch:  3001 loss:  23.7194703125 \t loss_angle: 8.3219984375 \t loss_angle_tt: 15.397478125\n",
      "epoch:  3051 loss:  23.7048703125 \t loss_angle: 8.32171484375 \t loss_angle_tt: 15.3831265625\n",
      "epoch:  3101 loss:  23.6903953125 \t loss_angle: 8.32141015625 \t loss_angle_tt: 15.3689640625\n",
      "epoch:  3151 loss:  23.676078125 \t loss_angle: 8.321084375 \t loss_angle_tt: 15.35500625\n",
      "epoch:  3201 loss:  23.6619203125 \t loss_angle: 8.320715625 \t loss_angle_tt: 15.3411484375\n",
      "epoch:  3251 loss:  23.6477625 \t loss_angle: 8.32037265625 \t loss_angle_tt: 15.3273546875\n",
      "epoch:  3301 loss:  23.6337203125 \t loss_angle: 8.3200125 \t loss_angle_tt: 15.313696875\n",
      "epoch:  3351 loss:  23.6197890625 \t loss_angle: 8.319678125 \t loss_angle_tt: 15.3001015625\n",
      "epoch:  3401 loss:  23.6060890625 \t loss_angle: 8.319353125 \t loss_angle_tt: 15.2867390625\n",
      "epoch:  3451 loss:  23.5925828125 \t loss_angle: 8.31904140625 \t loss_angle_tt: 15.2735796875\n",
      "epoch:  3501 loss:  23.579090625 \t loss_angle: 8.3187125 \t loss_angle_tt: 15.260346875\n",
      "epoch:  3551 loss:  23.5657671875 \t loss_angle: 8.3184015625 \t loss_angle_tt: 15.24735625\n",
      "epoch:  3601 loss:  23.5524609375 \t loss_angle: 8.3180546875 \t loss_angle_tt: 15.23441875\n",
      "epoch:  3651 loss:  23.5393875 \t loss_angle: 8.31772421875 \t loss_angle_tt: 15.221621875\n",
      "epoch:  3701 loss:  23.5263109375 \t loss_angle: 8.31739296875 \t loss_angle_tt: 15.20890625\n",
      "epoch:  3751 loss:  23.5132796875 \t loss_angle: 8.31709140625 \t loss_angle_tt: 15.196221875\n",
      "epoch:  3801 loss:  23.50055625 \t loss_angle: 8.3167609375 \t loss_angle_tt: 15.1837890625\n",
      "epoch:  3851 loss:  23.4879359375 \t loss_angle: 8.31639609375 \t loss_angle_tt: 15.171453125\n",
      "epoch:  3901 loss:  23.4753828125 \t loss_angle: 8.31606171875 \t loss_angle_tt: 15.1593234375\n",
      "epoch:  3951 loss:  23.4628734375 \t loss_angle: 8.31574453125 \t loss_angle_tt: 15.1471421875\n",
      "epoch:  4001 loss:  23.4505 \t loss_angle: 8.31547890625 \t loss_angle_tt: 15.134975\n",
      "epoch:  4051 loss:  23.438121875 \t loss_angle: 8.31518515625 \t loss_angle_tt: 15.122925\n",
      "epoch:  4101 loss:  23.4259453125 \t loss_angle: 8.314875 \t loss_angle_tt: 15.1110484375\n",
      "epoch:  4151 loss:  23.4139484375 \t loss_angle: 8.314575 \t loss_angle_tt: 15.0993625\n",
      "epoch:  4201 loss:  23.4020484375 \t loss_angle: 8.314265625 \t loss_angle_tt: 15.08778125\n",
      "epoch:  4251 loss:  23.3903109375 \t loss_angle: 8.31396953125 \t loss_angle_tt: 15.07630625\n",
      "epoch:  4301 loss:  23.3787546875 \t loss_angle: 8.31366484375 \t loss_angle_tt: 15.06508125\n",
      "epoch:  4351 loss:  23.3672453125 \t loss_angle: 8.31334921875 \t loss_angle_tt: 15.0538984375\n",
      "epoch:  4401 loss:  23.3558984375 \t loss_angle: 8.313028125 \t loss_angle_tt: 15.0428546875\n",
      "epoch:  4451 loss:  23.3445578125 \t loss_angle: 8.31271796875 \t loss_angle_tt: 15.0318015625\n",
      "epoch:  4501 loss:  23.333371875 \t loss_angle: 8.3124265625 \t loss_angle_tt: 15.0208796875\n",
      "epoch:  4551 loss:  23.3222765625 \t loss_angle: 8.3121171875 \t loss_angle_tt: 15.010165625\n",
      "epoch:  4601 loss:  23.31134375 \t loss_angle: 8.31178203125 \t loss_angle_tt: 14.999553125\n"
     ]
    }
   ],
   "source": [
    "opt = torch.optim.Adam(model.parameters(), lr=params['learning_rate'])\n",
    "for epoch in range(params['epochs']):\n",
    "    loss_sum = 0\n",
    "    loss_angle_sum = 0\n",
    "    loss_angle_t_sum = 0\n",
    "    loss_angle_tt_sum = 0\n",
    "    count = 0 \n",
    "    model.train()\n",
    "    for i in range(len(data['z'])//params['batch_size']):\n",
    "        image_temp = image[i*params['batch_size']:(i+1)*params['batch_size'],:]\n",
    "        angle_temp = angle[i*params['batch_size']:(i+1)*params['batch_size'],:]\n",
    "        angle_t_temp = angle_t[i*params['batch_size']:(i+1)*params['batch_size'],:]\n",
    "        angle_tt_temp = angle_tt[i*params['batch_size']:(i+1)*params['batch_size'],:]\n",
    "        for j in range(image_temp.shape[0]):\n",
    "            input = Variable(torch.tensor(image_temp[j,:],dtype=torch.float32).to(device))\n",
    "            pre = model.forward(input)\n",
    "            angle_true = torch.tensor(angle_temp[j,:],dtype=torch.float32).to(device)\n",
    "            angle_t_true = torch.tensor(angle_t_temp[j,:],dtype=torch.float32).to(device)\n",
    "            angle_tt_true = torch.tensor(angle_tt_temp[j,:],dtype=torch.float32).to(device)\n",
    "            loss_angle = torch.abs(angle_true[0] - pre[0]) + torch.abs(angle_true[1]-pre[1])\n",
    "            #loss_angle_t = torch.abs(angle_t_true - pre[1])\n",
    "            #loss_angle_tt = torch.abs(angle_tt_true[0] - pre[2]) + torch.abs(angle_tt_true[1]-pre[3])\n",
    "            loss = loss_angle \n",
    "            loss_sum += loss\n",
    "            loss_angle_sum += loss_angle\n",
    "            #loss_angle_t_sum += loss_angle_t\n",
    "            #loss_angle_tt_sum += loss_angle_tt\n",
    "            count += 1\n",
    "            opt.zero_grad()\n",
    "            loss.backward()\n",
    "            opt.step()\n",
    "        model.eval()\n",
    "    loss_log.append(loss_sum.item()/count)\n",
    "    if epoch % 50 == 0:\n",
    "        print('epoch: ', epoch+1, 'loss: ', loss_sum.item()/count)"
   ]
  },
  {
   "cell_type": "code",
   "execution_count": null,
   "id": "2b5f9fdc-23af-417e-84c2-1ce0cf61ac4c",
   "metadata": {},
   "outputs": [],
   "source": [
    "params['save_date'] = str(datetime.date.today())\n",
    "PATH = os.path.join(params['root_dir'], params['save_date'],params['save_ver'])\n",
    "print(PATH)"
   ]
  },
  {
   "cell_type": "code",
   "execution_count": null,
   "id": "5d2f0732-dbae-4e3c-9822-e924c8cd772f",
   "metadata": {},
   "outputs": [],
   "source": [
    "def saving(model,PATH):\n",
    "    if os.path.exists(PATH) == False:\n",
    "        os.makedirs(PATH)\n",
    "    model_PATH = os.path.join(PATH, 'model.pth')\n",
    "    torch.save(model.state_dict(), model_PATH)\n",
    "    params_PATH = os.path.join(PATH, 'params.txt')\n",
    "    with open(params_PATH, 'w') as f:\n",
    "        f.write(str(params))\n",
    "        f.close()\n",
    "    loss_PATH = os.path.join(PATH, 'loss_log.csv')\n",
    "    with open(loss_PATH, 'w') as f:\n",
    "        writer = csv.writer(f)\n",
    "        writer.writerow(loss_log)\n",
    "    #fig_PATH = os.path.join(PATH, 'loss.png') \n",
    "    #plt.savefig(fig_PATH)\n",
    "    print(\"data saved\")\n",
    "    return"
   ]
  },
  {
   "cell_type": "code",
   "execution_count": null,
   "id": "7da3e7a4-2f4a-4762-b73d-22a28daca5a3",
   "metadata": {},
   "outputs": [],
   "source": [
    "if params['if_save'] == True:\n",
    "    saving(model,PATH)"
   ]
  },
  {
   "cell_type": "code",
   "execution_count": null,
   "id": "b3fd32be-33e5-41ec-a778-351ea145a73f",
   "metadata": {},
   "outputs": [],
   "source": [
    "#plotting result\n",
    "plt.plot(loss_log)\n",
    "fig_PATH = os.path.join(PATH, 'loss.png') \n",
    "plt.savefig(fig_PATH, bbox_inches='tight', pad_inches = +0.1)\n",
    "plt.show()"
   ]
  },
  {
   "cell_type": "code",
   "execution_count": null,
   "id": "9b83a8ec-aba7-4f62-883d-b1edf428ef0d",
   "metadata": {},
   "outputs": [],
   "source": [
    "print(PATH)"
   ]
  },
  {
   "cell_type": "code",
   "execution_count": null,
   "id": "29d534ce-b7c1-4f7c-903d-491465843b0e",
   "metadata": {},
   "outputs": [],
   "source": []
  }
 ],
 "metadata": {
  "kernelspec": {
   "display_name": "pytorch",
   "language": "python",
   "name": "python3"
  },
  "language_info": {
   "codemirror_mode": {
    "name": "ipython",
    "version": 3
   },
   "file_extension": ".py",
   "mimetype": "text/x-python",
   "name": "python",
   "nbconvert_exporter": "python",
   "pygments_lexer": "ipython3",
   "version": "3.10.6"
  }
 },
 "nbformat": 4,
 "nbformat_minor": 5
}
