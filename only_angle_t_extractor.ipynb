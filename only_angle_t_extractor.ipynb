{
 "cells": [
  {
   "cell_type": "code",
   "execution_count": 1,
   "id": "642c4171-7a8c-4fd1-a735-970960ccb3fa",
   "metadata": {},
   "outputs": [],
   "source": [
    "def __clear_env():\n",
    "    for key in globals().keys():\n",
    "        if not key.startswith(\"__\"):# 排除系统内建函数\n",
    "            globals().pop(key)\n",
    "__clear_env\n",
    "import example_pendulum_double_pendulum\n",
    "import torch; torch.manual_seed(0)\n",
    "import torch.nn as nn\n",
    "import torch.nn.functional as F\n",
    "import torch.utils\n",
    "import torch.distributions\n",
    "#import torchvision\n",
    "import numpy as np\n",
    "import os\n",
    "import matplotlib.pyplot as plt\n",
    "import pickle\n",
    "import csv\n",
    "import datetime\n",
    "from torch.autograd import Variable"
   ]
  },
  {
   "cell_type": "code",
   "execution_count": 2,
   "id": "76326faa-47ae-4ec0-8d70-812de3ec240a",
   "metadata": {},
   "outputs": [
    {
     "name": "stdout",
     "output_type": "stream",
     "text": [
      "./progress\\2023-06-08\\1\n"
     ]
    }
   ],
   "source": [
    "environment = \"server\"\n",
    "loss_log = []\n",
    "params = {}\n",
    "#params['learning_rate'] = trial.suggest_float('lr',0,1)\n",
    "params['epochs'] = 5000\n",
    "params['batch_size'] = 500\n",
    "if environment == 'laptop':\n",
    "    params['root_dir'] =R'C:\\Users\\87106\\OneDrive\\sindy\\progress'\n",
    "elif environment == 'desktop':\n",
    "    params['root_dir'] = R'E:\\OneDrive\\sindy\\progress'\n",
    "elif environment == 'server':\n",
    "    params['root_dir'] = R'./progress'\n",
    "params['learning_rate'] = 1e-8\n",
    "\n",
    "# save parameters\n",
    "params['if_save'] = True\n",
    "params['save_date'] = str(datetime.date.today())\n",
    "params['save_ver'] = '1'\n",
    "#load parameters\n",
    "params['if_load'] = False\n",
    "params['load_date'] = '2023-06-07'\n",
    "params['load_ver'] = '1'\n",
    "#noise setting\n",
    "params['adding_noise'] = False\n",
    "params['noise_type'] = 'angle_noise'\n",
    "params['noiselevel'] = 1e-3\n",
    "#pendulum length setting\n",
    "params['changing_length'] = True\n",
    "PATH = os.path.join(params['root_dir'], params['save_date'],params['save_ver'])\n",
    "loading_path = os.path.join(params['root_dir'], params['load_date'],params['load_ver'],'model.pth')\n",
    "print(PATH)"
   ]
  },
  {
   "cell_type": "code",
   "execution_count": 3,
   "id": "c6550da5-2d80-4a4e-b049-82e921c51a13",
   "metadata": {},
   "outputs": [
    {
     "name": "stdout",
     "output_type": "stream",
     "text": [
      "generating pendulum data, pendulum type: double pendulum\n",
      "(5000, 2)\n"
     ]
    }
   ],
   "source": [
    "device = 'cuda:0'\n",
    "data = example_pendulum_double_pendulum.get_pendulum_data(10,params)\n",
    "image = data['x']\n",
    "image_t = data['dx']\n",
    "image_tt = data['ddx']\n",
    "angle = data['z']\n",
    "angle_t = data['dz']\n",
    "angle_tt = data['ddz']\n",
    "print(angle.shape)"
   ]
  },
  {
   "cell_type": "code",
   "execution_count": 4,
   "id": "e6b3f118-fe7e-40aa-8727-e97655dd612a",
   "metadata": {},
   "outputs": [
    {
     "name": "stdout",
     "output_type": "stream",
     "text": [
      "(5000, 2)\n"
     ]
    }
   ],
   "source": [
    "print(angle_tt.shape)"
   ]
  },
  {
   "cell_type": "code",
   "execution_count": 13,
   "id": "5e2c1e4e-ec39-44e7-b546-a945a119721d",
   "metadata": {},
   "outputs": [],
   "source": [
    "class angle_predict(nn.Module):\n",
    "    def __init__(self):\n",
    "        super(angle_predict, self).__init__()\n",
    "        self.fc1 = nn.Linear(7803, 2601)\n",
    "        self.fc2 = nn.Linear(2601, 1024)\n",
    "        self.fc3 = nn.Linear(1024, 512)\n",
    "        self.fc4 = nn.Linear(512, 256)\n",
    "        self.fc5 = nn.Linear(256, 64)\n",
    "        self.fc6 = nn.Linear(64, 2)\n",
    "    def forward(self, x):\n",
    "        m = nn.ReLU()\n",
    "        x = self.fc1(x)\n",
    "        x = m(x)\n",
    "        x = self.fc2(x)\n",
    "        x = m(x)\n",
    "        x = self.fc3(x)\n",
    "        x = m(x)\n",
    "        x = self.fc4(x)\n",
    "        x = m(x) \n",
    "        x = self.fc5(x) \n",
    "        x = m(x)\n",
    "        x = self.fc6(x)\n",
    "        return x\n",
    "model = angle_predict()\n",
    "if params['if_load'] == True:\n",
    "    model.load_state_dict(torch.load(loading_path))\n",
    "model = model.to(device)"
   ]
  },
  {
   "cell_type": "code",
   "execution_count": 17,
   "id": "10e0f4c1-9ada-4375-8b98-d0e332238be3",
   "metadata": {
    "tags": []
   },
   "outputs": [
    {
     "name": "stdout",
     "output_type": "stream",
     "text": [
      "epoch:  1 loss:  5.535243709211848\n"
     ]
    },
    {
     "ename": "KeyboardInterrupt",
     "evalue": "",
     "output_type": "error",
     "traceback": [
      "\u001b[1;31m---------------------------------------------------------------------------\u001b[0m",
      "\u001b[1;31mKeyboardInterrupt\u001b[0m                         Traceback (most recent call last)",
      "\u001b[1;32md:\\Github\\Autoencoder-conservative_expression\\Autoencoder-conservtive_expression\\only_angle_t_extractor.ipynb Cell 6\u001b[0m in \u001b[0;36m<cell line: 2>\u001b[1;34m()\u001b[0m\n\u001b[0;32m     <a href='vscode-notebook-cell:/d%3A/Github/Autoencoder-conservative_expression/Autoencoder-conservtive_expression/only_angle_t_extractor.ipynb#W6sZmlsZQ%3D%3D?line=10'>11</a>\u001b[0m angle_t_temp \u001b[39m=\u001b[39m angle_t[i\u001b[39m*\u001b[39mparams[\u001b[39m'\u001b[39m\u001b[39mbatch_size\u001b[39m\u001b[39m'\u001b[39m]:(i\u001b[39m+\u001b[39m\u001b[39m1\u001b[39m)\u001b[39m*\u001b[39mparams[\u001b[39m'\u001b[39m\u001b[39mbatch_size\u001b[39m\u001b[39m'\u001b[39m],:]\n\u001b[0;32m     <a href='vscode-notebook-cell:/d%3A/Github/Autoencoder-conservative_expression/Autoencoder-conservtive_expression/only_angle_t_extractor.ipynb#W6sZmlsZQ%3D%3D?line=11'>12</a>\u001b[0m \u001b[39mfor\u001b[39;00m j \u001b[39min\u001b[39;00m \u001b[39mrange\u001b[39m(image_temp\u001b[39m.\u001b[39mshape[\u001b[39m0\u001b[39m]\u001b[39m-\u001b[39m\u001b[39m2\u001b[39m):\n\u001b[1;32m---> <a href='vscode-notebook-cell:/d%3A/Github/Autoencoder-conservative_expression/Autoencoder-conservtive_expression/only_angle_t_extractor.ipynb#W6sZmlsZQ%3D%3D?line=12'>13</a>\u001b[0m     \u001b[39minput\u001b[39m \u001b[39m=\u001b[39m torch\u001b[39m.\u001b[39;49mtensor(image_temp[j:j\u001b[39m+\u001b[39;49m\u001b[39m3\u001b[39;49m,:],dtype\u001b[39m=\u001b[39;49mtorch\u001b[39m.\u001b[39;49mfloat32)\u001b[39m.\u001b[39;49mto(device)\n\u001b[0;32m     <a href='vscode-notebook-cell:/d%3A/Github/Autoencoder-conservative_expression/Autoencoder-conservtive_expression/only_angle_t_extractor.ipynb#W6sZmlsZQ%3D%3D?line=13'>14</a>\u001b[0m     \u001b[39minput\u001b[39m \u001b[39m=\u001b[39m \u001b[39minput\u001b[39m\u001b[39m.\u001b[39mreshape(\u001b[39minput\u001b[39m\u001b[39m.\u001b[39mshape[\u001b[39m0\u001b[39m]\u001b[39m*\u001b[39m\u001b[39minput\u001b[39m\u001b[39m.\u001b[39mshape[\u001b[39m1\u001b[39m])\n\u001b[0;32m     <a href='vscode-notebook-cell:/d%3A/Github/Autoencoder-conservative_expression/Autoencoder-conservtive_expression/only_angle_t_extractor.ipynb#W6sZmlsZQ%3D%3D?line=14'>15</a>\u001b[0m     \u001b[39minput\u001b[39m \u001b[39m=\u001b[39m Variable(\u001b[39minput\u001b[39m)\n",
      "\u001b[1;31mKeyboardInterrupt\u001b[0m: "
     ]
    }
   ],
   "source": [
    "opt = torch.optim.Adam(model.parameters(), lr=params['learning_rate'])\n",
    "for epoch in range(params['epochs']):\n",
    "    loss_sum = 0\n",
    "    loss_angle_sum = 0\n",
    "    loss_angle_t_sum = 0\n",
    "    loss_angle_tt_sum = 0\n",
    "    count = 0 \n",
    "    model.train()\n",
    "    for i in range(len(data['z'])//params['batch_size']):\n",
    "        image_temp = image[i*params['batch_size']:(i+1)*params['batch_size'],:]\n",
    "        angle_t_temp = angle_t[i*params['batch_size']:(i+1)*params['batch_size'],:]\n",
    "        for j in range(image_temp.shape[0]-2):\n",
    "            input = torch.tensor(image_temp[j:j+3,:],dtype=torch.float32).to(device)\n",
    "            input = input.reshape(input.shape[0]*input.shape[1])\n",
    "            input = Variable(input)\n",
    "            pre = model.forward(input)\n",
    "            angle_t_true = torch.tensor(angle_t_temp[j,:],dtype=torch.float32).to(device)\n",
    "            #loss_angle = torch.abs(angle_true[0] - pre[0]) + torch.abs(angle_true[1]-pre[1])\n",
    "            loss_angle_t = torch.abs(angle_t_true[0] - pre[0]) + torch.abs(angle_t_true[1] - pre[1])\n",
    "            #loss_angle_tt = torch.abs(angle_tt_true[0] - pre[2]) + torch.abs(angle_tt_true[1]-pre[3])\n",
    "            loss = loss_angle_t \n",
    "            loss_sum += loss\n",
    "            #loss_angle_sum += loss_angle\n",
    "            loss_angle_t_sum += loss_angle_t\n",
    "            #loss_angle_tt_sum += loss_angle_tt\n",
    "            count += 1\n",
    "            opt.zero_grad()\n",
    "            loss.backward()\n",
    "            opt.step()\n",
    "        model.eval()\n",
    "    loss_log.append(loss_sum.item()/count)\n",
    "    if epoch % 50 == 0:\n",
    "        print('epoch: ', epoch+1, 'loss: ', loss_sum.item()/count)"
   ]
  },
  {
   "cell_type": "code",
   "execution_count": null,
   "id": "2b5f9fdc-23af-417e-84c2-1ce0cf61ac4c",
   "metadata": {},
   "outputs": [],
   "source": [
    "params['save_date'] = str(datetime.date.today())\n",
    "PATH = os.path.join(params['root_dir'], params['save_date'],params['save_ver'])\n",
    "print(PATH)"
   ]
  },
  {
   "cell_type": "code",
   "execution_count": null,
   "id": "5d2f0732-dbae-4e3c-9822-e924c8cd772f",
   "metadata": {},
   "outputs": [],
   "source": [
    "def saving(model,PATH):\n",
    "    if os.path.exists(PATH) == False:\n",
    "        os.makedirs(PATH)\n",
    "    model_PATH = os.path.join(PATH, 'model.pth')\n",
    "    torch.save(model.state_dict(), model_PATH)\n",
    "    params_PATH = os.path.join(PATH, 'params.txt')\n",
    "    with open(params_PATH, 'w') as f:\n",
    "        f.write(str(params))\n",
    "        f.close()\n",
    "    loss_PATH = os.path.join(PATH, 'loss_log.csv')\n",
    "    with open(loss_PATH, 'w') as f:\n",
    "        writer = csv.writer(f)\n",
    "        writer.writerow(loss_log)\n",
    "    #fig_PATH = os.path.join(PATH, 'loss.png') \n",
    "    #plt.savefig(fig_PATH)\n",
    "    print(\"data saved\")\n",
    "    return"
   ]
  },
  {
   "cell_type": "code",
   "execution_count": null,
   "id": "7da3e7a4-2f4a-4762-b73d-22a28daca5a3",
   "metadata": {},
   "outputs": [],
   "source": [
    "if params['if_save'] == True:\n",
    "    saving(model,PATH)"
   ]
  },
  {
   "cell_type": "code",
   "execution_count": null,
   "id": "b3fd32be-33e5-41ec-a778-351ea145a73f",
   "metadata": {},
   "outputs": [],
   "source": [
    "#plotting result\n",
    "plt.plot(loss_log)\n",
    "fig_PATH = os.path.join(PATH, 'loss.png') \n",
    "plt.savefig(fig_PATH, bbox_inches='tight', pad_inches = +0.1)\n",
    "plt.show()"
   ]
  },
  {
   "cell_type": "code",
   "execution_count": null,
   "id": "9b83a8ec-aba7-4f62-883d-b1edf428ef0d",
   "metadata": {},
   "outputs": [],
   "source": [
    "print(PATH)"
   ]
  },
  {
   "cell_type": "code",
   "execution_count": null,
   "id": "29d534ce-b7c1-4f7c-903d-491465843b0e",
   "metadata": {},
   "outputs": [],
   "source": []
  }
 ],
 "metadata": {
  "kernelspec": {
   "display_name": "pytorch",
   "language": "python",
   "name": "python3"
  },
  "language_info": {
   "codemirror_mode": {
    "name": "ipython",
    "version": 3
   },
   "file_extension": ".py",
   "mimetype": "text/x-python",
   "name": "python",
   "nbconvert_exporter": "python",
   "pygments_lexer": "ipython3",
   "version": "3.10.6"
  }
 },
 "nbformat": 4,
 "nbformat_minor": 5
}
