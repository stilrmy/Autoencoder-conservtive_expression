{
 "cells": [
  {
   "cell_type": "code",
   "execution_count": 5,
   "id": "f7c9264e-8da8-427f-9baf-7569cc5dc0f2",
   "metadata": {},
   "outputs": [],
   "source": [
    "import example_pendulum\n",
    "import torch; torch.manual_seed(0)\n",
    "import torch.nn as nn\n",
    "import torch.nn.functional as F\n",
    "import torch.utils\n",
    "import torch.distributions\n",
    "#import torchvision\n",
    "import numpy as np\n",
    "import os\n",
    "import matplotlib.pyplot as plt\n",
    "import pickle\n",
    "import csv\n",
    "\n",
    "from torch.autograd import Variable"
   ]
  },
  {
   "cell_type": "code",
   "execution_count": 6,
   "id": "c3f46118-5b50-4126-8d22-51b355dfb2f6",
   "metadata": {},
   "outputs": [],
   "source": [
    "device = 'cuda:0'"
   ]
  },
  {
   "cell_type": "code",
   "execution_count": null,
   "id": "70b19683-9916-46e0-bbd9-459abd13628e",
   "metadata": {},
   "outputs": [],
   "source": [
    "environment = \"server\"\n",
    "if environment == 'laptop':\n",
    "    root_dir =R'C:\\Users\\87106\\OneDrive\\sindy\\progress'\n",
    "elif environment == 'desktop':\n",
    "    root_dir = R'E:\\OneDrive\\sindy\\progress'\n",
    "elif environment == 'server':\n",
    "    root_dir = R'/mnt/ssd1/stilrmy/Angle_detector/progress'\n",
    "#the angle_extractor\n",
    "AE_save_date = '2023-05-11'\n",
    "AE_save_ver = '1'\n",
    "#the angle_t_extractor\n",
    "AtE_save_date = '2023-05-11'\n",
    "AtE_save_ver = '1'\n",
    "#genrate path\n",
    "AE_path = os.path.join(root_dir,AE_save_date,AE_save_ver,'model.pth')\n",
    "AtE_path = os.path.join(root_dir,'Angle_t_extractor',AtE_save_date,AtE_save_ver,'model.pth')"
   ]
  },
  {
   "cell_type": "code",
   "execution_count": 8,
   "id": "19c4f71b-74b3-4fb6-aea1-11cd198e28bf",
   "metadata": {},
   "outputs": [],
   "source": [
    "#initialize the Angle_extractor and load the parameters\n",
    "class angle_predict(nn.Module):\n",
    "    def __init__(self):\n",
    "        super(angle_predict, self).__init__()\n",
    "        self.fc1 = nn.Linear(2601, 1024)\n",
    "        self.fc2 = nn.Linear(1024, 512)\n",
    "        self.fc3 = nn.Linear(512, 256)\n",
    "        self.fc4 = nn.Linear(256, 64)\n",
    "        self.fc5 = nn.Linear(64, 2)\n",
    "    def forward(self, x):\n",
    "        m = nn.ReLU()\n",
    "        x = self.fc1(x)\n",
    "        x = m(x)\n",
    "        x = self.fc2(x)\n",
    "        x = m(x)\n",
    "        x = self.fc3(x)\n",
    "        x = m(x)\n",
    "        x = self.fc4(x)\n",
    "        x = m(x)\n",
    "        x = self.fc5(x) \n",
    "        return x\n",
    "AE = angle_predict()\n",
    "AE.load_state_dict(torch.load(AE_path))\n",
    "AE =AE.to(device)"
   ]
  },
  {
   "cell_type": "code",
   "execution_count": 10,
   "id": "3883974c-b099-4658-84c8-1018fb76718e",
   "metadata": {},
   "outputs": [],
   "source": [
    "#initialize the Angle_t_extractor and load the parameters\n",
    "class angle_t_predict(nn.Module):\n",
    "    def __init__(self):\n",
    "        super(angle_t_predict, self).__init__()\n",
    "        self.fc1 = nn.Linear(7803, 4096)\n",
    "        self.fc2 = nn.Linear(4096, 1024)\n",
    "        self.fc3 = nn.Linear(1024, 512)\n",
    "        self.fc4 = nn.Linear(512, 256)\n",
    "        self.fc5 = nn.Linear(256, 64)\n",
    "        self.fc6 = nn.Linear(64, 1)\n",
    "    def forward(self, x):\n",
    "        m = nn.ReLU()\n",
    "        x = self.fc1(x)\n",
    "        x = m(x)\n",
    "        x = self.fc2(x)\n",
    "        x = m(x)\n",
    "        x = self.fc3(x)\n",
    "        x = m(x)\n",
    "        x = self.fc4(x)\n",
    "        x = m(x)\n",
    "        x = self.fc5(x)\n",
    "        x = m(x)\n",
    "        x = self.fc6(x) \n",
    "        return x\n",
    "AtE = angle_t_predict()\n",
    "AtE.load_state_dict(torch.load(AtE_path))\n",
    "AtE = AtE.to(device)"
   ]
  },
  {
   "cell_type": "code",
   "execution_count": 32,
   "id": "06ecabdf-7934-45c9-97ed-c317250a0ca9",
   "metadata": {},
   "outputs": [],
   "source": [
    "def image_process(sample_size,params):\n",
    "    sample_size = 10\n",
    "    data = example_pendulum.get_pendulum_data(sample_size,params)\n",
    "    image = data['x']\n",
    "    angle = np.zeros(image.shape[0]-2)\n",
    "    angle_t = np.zeros(image.shape[0]-2)\n",
    "    angle_tt = np.zeros(image.shape[0]-2)\n",
    "    for i in range(image.shape[0]-2):\n",
    "        input = Variable(torch.tensor(image[i,:],dtype=torch.float32).to(device))\n",
    "        temp = AE.forward(input)\n",
    "        temp = temp.cpu().detach().numpy()\n",
    "        angle[i] = temp[0]\n",
    "        angle_tt[i] = temp[1]\n",
    "    \n",
    "    for i in range(image.shape[0]-2):\n",
    "        input = torch.tensor(image[i:i+3,:],dtype=torch.float32).to(device)\n",
    "        input = input.view(-1)\n",
    "        input = Variable(input)\n",
    "        temp = AtE.forward(input)\n",
    "        temp = temp.cpu().detach().numpy()\n",
    "        angle_t[i] = temp\n",
    "    \n",
    "    return angle,angle_t,angle_tt"
   ]
  },
  {
   "cell_type": "code",
   "execution_count": 33,
   "id": "6d23c42c-9de6-40c1-893a-3a571561d582",
   "metadata": {},
   "outputs": [],
   "source": []
  },
  {
   "cell_type": "code",
   "execution_count": null,
   "id": "6b513413-0c58-4162-b3f9-6e34013134af",
   "metadata": {},
   "outputs": [],
   "source": []
  }
 ],
 "metadata": {
  "kernelspec": {
   "display_name": "pytorch",
   "language": "python",
   "name": "pytorch"
  },
  "language_info": {
   "codemirror_mode": {
    "name": "ipython",
    "version": 3
   },
   "file_extension": ".py",
   "mimetype": "text/x-python",
   "name": "python",
   "nbconvert_exporter": "python",
   "pygments_lexer": "ipython3",
   "version": "3.10.10"
  }
 },
 "nbformat": 4,
 "nbformat_minor": 5
}
