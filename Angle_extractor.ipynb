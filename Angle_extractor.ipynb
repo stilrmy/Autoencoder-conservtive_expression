{
 "cells": [
  {
   "cell_type": "code",
   "execution_count": 1,
   "id": "642c4171-7a8c-4fd1-a735-970960ccb3fa",
   "metadata": {},
   "outputs": [],
   "source": [
    "def __clear_env():\n",
    "    for key in globals().keys():\n",
    "        if not key.startswith(\"__\"):# 排除系统内建函数\n",
    "            globals().pop(key)\n",
    "__clear_env\n",
    "import example_pendulum\n",
    "import torch; torch.manual_seed(0)\n",
    "import torch.nn as nn\n",
    "import torch.nn.functional as F\n",
    "import torch.utils\n",
    "import torch.distributions\n",
    "#import torchvision\n",
    "import numpy as np\n",
    "import os\n",
    "import matplotlib.pyplot as plt\n",
    "import pickle\n",
    "from torch.autograd import Variable"
   ]
  },
  {
   "cell_type": "code",
   "execution_count": 2,
   "id": "c6550da5-2d80-4a4e-b049-82e921c51a13",
   "metadata": {},
   "outputs": [
    {
     "name": "stdout",
     "output_type": "stream",
     "text": [
      "(5000, 2601)\n"
     ]
    }
   ],
   "source": [
    "device = 'cuda:0'\n",
    "data = example_pendulum.get_pendulum_data(10)\n",
    "image = data['x']\n",
    "image_t = data['dx']\n",
    "image_tt = data['ddx']\n",
    "angle = data['z']\n",
    "angle_t = data['dz']\n",
    "angle_tt = data['ddz']\n",
    "print(image.shape)"
   ]
  },
  {
   "cell_type": "code",
   "execution_count": 3,
   "id": "76326faa-47ae-4ec0-8d70-812de3ec240a",
   "metadata": {},
   "outputs": [
    {
     "name": "stdout",
     "output_type": "stream",
     "text": [
      "C:\\Users\\87106\\OneDrive\\sindy\\progress\\3-30\\1\n"
     ]
    }
   ],
   "source": [
    "environment = \"laptop\"\n",
    "loss_log = []\n",
    "params = {}\n",
    "params['learning_rate'] = 1e-7\n",
    "params['epochs'] = 170\n",
    "params['batch_size'] = 50\n",
    "if environment == 'laptop':\n",
    "    params['root_dir'] =R'C:\\Users\\87106\\OneDrive\\sindy\\progress'\n",
    "# save parameters\n",
    "params['if_save'] = True\n",
    "params['save_date'] = '3-30'\n",
    "params['save_ver'] = '1'\n",
    "#load parameters\n",
    "params['load_date'] = '3-30'\n",
    "params['load_ver'] = '1'\n",
    "PATH = os.path.join(params['root_dir'], params['save_date'],params['save_ver'])\n",
    "print(PATH)"
   ]
  },
  {
   "cell_type": "code",
   "execution_count": 4,
   "id": "5e2c1e4e-ec39-44e7-b546-a945a119721d",
   "metadata": {},
   "outputs": [
    {
     "data": {
      "text/plain": [
       "angle_predict(\n",
       "  (fc1): Linear(in_features=2601, out_features=1024, bias=True)\n",
       "  (fc2): Linear(in_features=1024, out_features=512, bias=True)\n",
       "  (fc3): Linear(in_features=512, out_features=256, bias=True)\n",
       "  (fc4): Linear(in_features=256, out_features=64, bias=True)\n",
       "  (fc5): Linear(in_features=64, out_features=1, bias=True)\n",
       ")"
      ]
     },
     "execution_count": 4,
     "metadata": {},
     "output_type": "execute_result"
    }
   ],
   "source": [
    "class angle_predict(nn.Module):\n",
    "    def __init__(self):\n",
    "        super(angle_predict, self).__init__()\n",
    "        self.fc1 = nn.Linear(2601, 1024)\n",
    "        self.fc2 = nn.Linear(1024, 512)\n",
    "        self.fc3 = nn.Linear(512, 256)\n",
    "        self.fc4 = nn.Linear(256, 64)\n",
    "        self.fc5 = nn.Linear(64, 1)\n",
    "    def forward(self, x):\n",
    "        m = nn.ReLU()\n",
    "        x = self.fc1(x)\n",
    "        x = m(x)\n",
    "        x = self.fc2(x)\n",
    "        x = m(x)\n",
    "        x = self.fc3(x)\n",
    "        x = m(x)\n",
    "        x = self.fc4(x)\n",
    "        x = m(x)\n",
    "        x = self.fc5(x) \n",
    "        return x\n",
    "model = angle_predict().to(device)\n",
    "model"
   ]
  },
  {
   "cell_type": "code",
   "execution_count": 5,
   "id": "10e0f4c1-9ada-4375-8b98-d0e332238be3",
   "metadata": {},
   "outputs": [
    {
     "name": "stdout",
     "output_type": "stream",
     "text": [
      "epoch:  1 loss:  0.9367189453125\n",
      "epoch:  2 loss:  0.93194150390625\n",
      "epoch:  3 loss:  0.92611806640625\n",
      "epoch:  4 loss:  0.91879228515625\n",
      "epoch:  5 loss:  0.90970849609375\n",
      "epoch:  6 loss:  0.89877958984375\n",
      "epoch:  7 loss:  0.88573154296875\n",
      "epoch:  8 loss:  0.87040166015625\n",
      "epoch:  9 loss:  0.85216435546875\n",
      "epoch:  10 loss:  0.830046484375\n",
      "epoch:  11 loss:  0.804673095703125\n",
      "epoch:  12 loss:  0.776397412109375\n",
      "epoch:  13 loss:  0.745228564453125\n",
      "epoch:  14 loss:  0.7116921875\n",
      "epoch:  15 loss:  0.676056298828125\n",
      "epoch:  16 loss:  0.639952734375\n",
      "epoch:  17 loss:  0.6024029296875\n",
      "epoch:  18 loss:  0.56321171875\n",
      "epoch:  19 loss:  0.524978173828125\n",
      "epoch:  20 loss:  0.4892671875\n",
      "epoch:  21 loss:  0.45457265625\n",
      "epoch:  22 loss:  0.420560205078125\n",
      "epoch:  23 loss:  0.3885037353515625\n",
      "epoch:  24 loss:  0.35923193359375\n",
      "epoch:  25 loss:  0.3320271728515625\n",
      "epoch:  26 loss:  0.3064039306640625\n",
      "epoch:  27 loss:  0.2826761474609375\n",
      "epoch:  28 loss:  0.2616669677734375\n",
      "epoch:  29 loss:  0.243460498046875\n",
      "epoch:  30 loss:  0.22728662109375\n",
      "epoch:  31 loss:  0.21276953125\n",
      "epoch:  32 loss:  0.19950611572265625\n",
      "epoch:  33 loss:  0.18690228271484374\n",
      "epoch:  34 loss:  0.1745973876953125\n",
      "epoch:  35 loss:  0.1628198486328125\n",
      "epoch:  36 loss:  0.15125618896484375\n",
      "epoch:  37 loss:  0.139703662109375\n",
      "epoch:  38 loss:  0.12845950927734376\n",
      "epoch:  39 loss:  0.1177523193359375\n",
      "epoch:  40 loss:  0.10781209716796875\n",
      "epoch:  41 loss:  0.09866555786132812\n",
      "epoch:  42 loss:  0.090212841796875\n",
      "epoch:  43 loss:  0.08237130737304688\n",
      "epoch:  44 loss:  0.07526051635742187\n",
      "epoch:  45 loss:  0.06898479614257813\n",
      "epoch:  46 loss:  0.06368207397460937\n",
      "epoch:  47 loss:  0.05935092163085937\n",
      "epoch:  48 loss:  0.055792724609375\n",
      "epoch:  49 loss:  0.052914996337890624\n",
      "epoch:  50 loss:  0.05047983703613281\n",
      "epoch:  51 loss:  0.048306475830078126\n",
      "epoch:  52 loss:  0.046383364868164065\n",
      "epoch:  53 loss:  0.04474621887207031\n",
      "epoch:  54 loss:  0.043144192504882814\n",
      "epoch:  55 loss:  0.04174462890625\n",
      "epoch:  56 loss:  0.04051208190917969\n",
      "epoch:  57 loss:  0.03929339599609375\n",
      "epoch:  58 loss:  0.03816305847167969\n",
      "epoch:  59 loss:  0.03706831665039063\n",
      "epoch:  60 loss:  0.036002447509765625\n",
      "epoch:  61 loss:  0.03502213439941406\n",
      "epoch:  62 loss:  0.03406014404296875\n",
      "epoch:  63 loss:  0.03310621948242187\n",
      "epoch:  64 loss:  0.03222122497558594\n",
      "epoch:  65 loss:  0.03142619323730469\n",
      "epoch:  66 loss:  0.030492141723632814\n",
      "epoch:  67 loss:  0.029791943359375\n",
      "epoch:  68 loss:  0.029050979614257812\n",
      "epoch:  69 loss:  0.028310357666015626\n",
      "epoch:  70 loss:  0.027603228759765626\n",
      "epoch:  71 loss:  0.026963214111328127\n",
      "epoch:  72 loss:  0.026324215698242188\n",
      "epoch:  73 loss:  0.025707183837890626\n",
      "epoch:  74 loss:  0.025074232482910155\n",
      "epoch:  75 loss:  0.02443099365234375\n",
      "epoch:  76 loss:  0.02388578643798828\n",
      "epoch:  77 loss:  0.023368792724609375\n",
      "epoch:  78 loss:  0.022848281860351562\n",
      "epoch:  79 loss:  0.022271109008789064\n",
      "epoch:  80 loss:  0.0218004638671875\n",
      "epoch:  81 loss:  0.021354570007324217\n",
      "epoch:  82 loss:  0.020835348510742188\n",
      "epoch:  83 loss:  0.020371478271484375\n",
      "epoch:  84 loss:  0.01995767822265625\n",
      "epoch:  85 loss:  0.019462596130371095\n",
      "epoch:  86 loss:  0.019130172729492186\n",
      "epoch:  87 loss:  0.018659747314453124\n",
      "epoch:  88 loss:  0.01831053466796875\n",
      "epoch:  89 loss:  0.017955955505371095\n",
      "epoch:  90 loss:  0.017590621948242187\n",
      "epoch:  91 loss:  0.01724212341308594\n",
      "epoch:  92 loss:  0.01691142883300781\n",
      "epoch:  93 loss:  0.016573654174804688\n",
      "epoch:  94 loss:  0.016302059936523436\n",
      "epoch:  95 loss:  0.015990016174316408\n",
      "epoch:  96 loss:  0.015698965454101564\n",
      "epoch:  97 loss:  0.015418231201171875\n",
      "epoch:  98 loss:  0.015129899597167968\n",
      "epoch:  99 loss:  0.0148695556640625\n",
      "epoch:  100 loss:  0.014642333984375\n",
      "epoch:  101 loss:  0.01437387237548828\n",
      "epoch:  102 loss:  0.014118992614746093\n",
      "epoch:  103 loss:  0.013906787109375\n",
      "epoch:  104 loss:  0.013656478881835937\n",
      "epoch:  105 loss:  0.013465850830078126\n",
      "epoch:  106 loss:  0.013244021606445312\n",
      "epoch:  107 loss:  0.012990599060058594\n",
      "epoch:  108 loss:  0.012850987243652344\n",
      "epoch:  109 loss:  0.012614272308349609\n",
      "epoch:  110 loss:  0.012427256774902343\n",
      "epoch:  111 loss:  0.012245967102050781\n",
      "epoch:  112 loss:  0.012049163055419922\n",
      "epoch:  113 loss:  0.011878292083740234\n",
      "epoch:  114 loss:  0.011680449676513672\n",
      "epoch:  115 loss:  0.011550733947753905\n",
      "epoch:  116 loss:  0.011304672241210938\n",
      "epoch:  117 loss:  0.011093961334228516\n",
      "epoch:  118 loss:  0.011007295227050781\n",
      "epoch:  119 loss:  0.010870315551757813\n",
      "epoch:  120 loss:  0.010764994812011718\n",
      "epoch:  121 loss:  0.010566951751708985\n",
      "epoch:  122 loss:  0.010453724670410156\n",
      "epoch:  123 loss:  0.010278364562988281\n",
      "epoch:  124 loss:  0.010089869689941406\n",
      "epoch:  125 loss:  0.009938579559326172\n",
      "epoch:  126 loss:  0.009899211883544921\n",
      "epoch:  127 loss:  0.009613394165039063\n",
      "epoch:  128 loss:  0.009559934997558594\n",
      "epoch:  129 loss:  0.009370149993896484\n",
      "epoch:  130 loss:  0.009293337249755859\n",
      "epoch:  131 loss:  0.009192170715332031\n",
      "epoch:  132 loss:  0.009103529357910155\n",
      "epoch:  133 loss:  0.008876164245605469\n",
      "epoch:  134 loss:  0.008814885711669922\n",
      "epoch:  135 loss:  0.008656446838378906\n",
      "epoch:  136 loss:  0.008586974334716797\n",
      "epoch:  137 loss:  0.00830787124633789\n",
      "epoch:  138 loss:  0.008282403564453126\n",
      "epoch:  139 loss:  0.008188256072998047\n",
      "epoch:  140 loss:  0.008056598663330078\n",
      "epoch:  141 loss:  0.007869870758056641\n",
      "epoch:  142 loss:  0.007783160400390625\n",
      "epoch:  143 loss:  0.007574946594238281\n",
      "epoch:  144 loss:  0.007596946716308593\n",
      "epoch:  145 loss:  0.007320412445068359\n",
      "epoch:  146 loss:  0.007368955230712891\n",
      "epoch:  147 loss:  0.007157144165039062\n",
      "epoch:  148 loss:  0.007100572204589844\n",
      "epoch:  149 loss:  0.0069134033203125\n",
      "epoch:  150 loss:  0.006819438934326172\n",
      "epoch:  151 loss:  0.0068162353515625\n",
      "epoch:  152 loss:  0.006651966857910157\n",
      "epoch:  153 loss:  0.006545470428466797\n",
      "epoch:  154 loss:  0.006405461883544922\n",
      "epoch:  155 loss:  0.0063636428833007816\n",
      "epoch:  156 loss:  0.006246624374389649\n",
      "epoch:  157 loss:  0.006183193206787109\n",
      "epoch:  158 loss:  0.006060635375976562\n",
      "epoch:  159 loss:  0.005867764663696289\n",
      "epoch:  160 loss:  0.005763013458251953\n",
      "epoch:  161 loss:  0.005737071609497071\n",
      "epoch:  162 loss:  0.005633049774169922\n",
      "epoch:  163 loss:  0.005562435913085938\n",
      "epoch:  164 loss:  0.005442957305908203\n",
      "epoch:  165 loss:  0.0053835289001464845\n",
      "epoch:  166 loss:  0.005239730072021484\n",
      "epoch:  167 loss:  0.005198611068725586\n",
      "epoch:  168 loss:  0.005044923400878906\n",
      "epoch:  169 loss:  0.004993743515014648\n",
      "epoch:  170 loss:  0.004859014129638672\n"
     ]
    }
   ],
   "source": [
    "\n",
    "for epoch in range(params['epochs']):\n",
    "    opt = torch.optim.Adam(model.parameters(), lr=params['learning_rate'])\n",
    "    loss_sum = 0 \n",
    "    count = 0 \n",
    "    for i in range(len(data['z'])//params['batch_size']):\n",
    "        image_temp = image[i*params['batch_size']:(i+1)*params['batch_size'],:]\n",
    "        angle_temp = angle[i*params['batch_size']:(i+1)*params['batch_size']]\n",
    "        for j in range(image_temp.shape[0]):\n",
    "            input = Variable(torch.tensor(image_temp[j,:],dtype=torch.float32).to(device))\n",
    "            angle_pre = model.forward(input)\n",
    "            angle_true = torch.tensor(angle_temp[j],dtype=torch.float32).to(device)\n",
    "            loss = torch.abs(angle_true - angle_pre)\n",
    "            loss_sum += loss\n",
    "            count += 1\n",
    "            opt.zero_grad()\n",
    "            loss.backward()\n",
    "            opt.step()\n",
    "    loss_log.append(loss_sum.item()/count)\n",
    "    print('epoch: ', epoch+1, 'loss: ', loss_sum.item()/count)"
   ]
  },
  {
   "cell_type": "code",
   "execution_count": 6,
   "id": "b3fd32be-33e5-41ec-a778-351ea145a73f",
   "metadata": {},
   "outputs": [
    {
     "data": {
      "image/png": "[encoded data removed]",
      "text/plain": [
       "<Figure size 640x480 with 1 Axes>"
      ]
     },
     "metadata": {},
     "output_type": "display_data"
    }
   ],
   "source": [
    "#plotting result\n",
    "plt.plot(loss_log)\n",
    "plt.show()"
   ]
  },
  {
   "cell_type": "code",
   "execution_count": 7,
   "id": "5d2f0732-dbae-4e3c-9822-e924c8cd772f",
   "metadata": {},
   "outputs": [],
   "source": [
    "def saving(model,PATH):\n",
    "    if os.path.exists(PATH) == False:\n",
    "        os.makedirs(PATH)\n",
    "    model_PATH = os.path.join(PATH, 'model.pt')\n",
    "    torch.save(model.state_dict(), model_PATH)\n",
    "    params_PATH = os.path.join(PATH, 'params.txt')\n",
    "    with open(params_PATH, 'w') as f:\n",
    "        f.write(str(params))\n",
    "        f.close()\n",
    "    fig_PATH = os.path.join(PATH, 'loss.png') \n",
    "    plt.savefig(fig_PATH)\n",
    "    print(\"data saved\")\n",
    "    return"
   ]
  },
  {
   "cell_type": "code",
   "execution_count": 8,
   "id": "7da3e7a4-2f4a-4762-b73d-22a28daca5a3",
   "metadata": {},
   "outputs": [
    {
     "name": "stdout",
     "output_type": "stream",
     "text": [
      "data saved\n"
     ]
    },
    {
     "data": {
      "text/plain": [
       "<Figure size 640x480 with 0 Axes>"
      ]
     },
     "metadata": {},
     "output_type": "display_data"
    }
   ],
   "source": [
    "if params['if_save'] == True:\n",
    "    saving(model,PATH)"
   ]
  },
  {
   "cell_type": "code",
   "execution_count": null,
   "id": "fb9d8c0d-bce8-4b1c-af3b-182423064cb6",
   "metadata": {},
   "outputs": [],
   "source": []
  }
 ],
 "metadata": {
  "kernelspec": {
   "display_name": "pytorch",
   "language": "python",
   "name": "pytorch"
  },
  "language_info": {
   "codemirror_mode": {
    "name": "ipython",
    "version": 3
   },
   "file_extension": ".py",
   "mimetype": "text/x-python",
   "name": "python",
   "nbconvert_exporter": "python",
   "pygments_lexer": "ipython3",
   "version": "3.10.9"
  }
 },
 "nbformat": 4,
 "nbformat_minor": 5
}
