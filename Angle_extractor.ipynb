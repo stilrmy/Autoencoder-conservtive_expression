{
 "cells": [
  {
   "cell_type": "code",
   "execution_count": 1,
   "id": "642c4171-7a8c-4fd1-a735-970960ccb3fa",
   "metadata": {},
   "outputs": [],
   "source": [
    "def __clear_env():\n",
    "    for key in globals().keys():\n",
    "        if not key.startswith(\"__\"):# 排除系统内建函数\n",
    "            globals().pop(key)\n",
    "__clear_env\n",
    "import example_pendulum\n",
    "import torch; torch.manual_seed(0)\n",
    "import torch.nn as nn\n",
    "import torch.nn.functional as F\n",
    "import torch.utils\n",
    "import torch.distributions\n",
    "#import torchvision\n",
    "import numpy as np\n",
    "import os\n",
    "import matplotlib.pyplot as plt\n",
    "import pickle\n",
    "import csv\n",
    "import datetime\n",
    "from torch.autograd import Variable"
   ]
  },
  {
   "cell_type": "code",
   "execution_count": 2,
   "id": "76326faa-47ae-4ec0-8d70-812de3ec240a",
   "metadata": {},
   "outputs": [
    {
     "name": "stdout",
     "output_type": "stream",
     "text": [
      "/mnt/ssd1/stilrmy/Angle_detector/progress/4-7/1/model.pth\n"
     ]
    }
   ],
   "source": [
    "environment = \"server\"\n",
    "loss_log = []\n",
    "params = {}\n",
    "#params['learning_rate'] = trial.suggest_float('lr',0,1)\n",
    "params['epochs'] = 2000\n",
    "params['batch_size'] = 500\n",
    "if environment == 'laptop':\n",
    "    params['root_dir'] =R'C:\\Users\\87106\\OneDrive\\sindy\\progress'\n",
    "elif environment == 'desktop':\n",
    "    params['root_dir'] = R'E:\\OneDrive\\sindy\\progress'\n",
    "elif environment == 'server':\n",
    "    params['root_dir'] = R'/mnt/ssd1/stilrmy/Angle_detector/progress'\n",
    "params['learning_rate'] = 1e-8\n",
    "\n",
    "# save parameters\n",
    "params['if_save'] = True\n",
    "params['save_date'] = str(datetime.date.today())\n",
    "params['save_ver'] = '1'\n",
    "#load parameters\n",
    "params['if_load'] = False\n",
    "params['load_date'] = '4-7'\n",
    "params['load_ver'] = '1'\n",
    "#noise setting\n",
    "params['adding_noise'] = True\n",
    "params['noise_type'] = 'angle_noise'\n",
    "params['noiselevel'] = 1e-3\n",
    "PATH = os.path.join(params['root_dir'], params['save_date'],params['save_ver'])\n",
    "loading_path = os.path.join(params['root_dir'], params['load_date'],params['load_ver'],'model.pth')\n",
    "print(loading_path)"
   ]
  },
  {
   "cell_type": "code",
   "execution_count": 3,
   "id": "c6550da5-2d80-4a4e-b049-82e921c51a13",
   "metadata": {},
   "outputs": [
    {
     "name": "stdout",
     "output_type": "stream",
     "text": [
      "Adding noise to the pendulum data\n",
      "noise_type: angle noise\n",
      "(5000, 2601)\n"
     ]
    }
   ],
   "source": [
    "device = 'cuda:2'\n",
    "data = example_pendulum.get_pendulum_data(10,params)\n",
    "image = data['x']\n",
    "image_t = data['dx']\n",
    "image_tt = data['ddx']\n",
    "angle = data['z']\n",
    "angle_t = data['dz']\n",
    "angle_tt = data['ddz']\n",
    "print(image.shape)"
   ]
  },
  {
   "cell_type": "code",
   "execution_count": 4,
   "id": "5e2c1e4e-ec39-44e7-b546-a945a119721d",
   "metadata": {},
   "outputs": [],
   "source": [
    "class angle_predict(nn.Module):\n",
    "    def __init__(self):\n",
    "        super(angle_predict, self).__init__()\n",
    "        self.fc1 = nn.Linear(2601, 1024)\n",
    "        self.fc2 = nn.Linear(1024, 512)\n",
    "        self.fc3 = nn.Linear(512, 256)\n",
    "        self.fc4 = nn.Linear(256, 64)\n",
    "        self.fc5 = nn.Linear(64, 2)\n",
    "    def forward(self, x):\n",
    "        m = nn.ReLU()\n",
    "        x = self.fc1(x)\n",
    "        x = m(x)\n",
    "        x = self.fc2(x)\n",
    "        x = m(x)\n",
    "        x = self.fc3(x)\n",
    "        x = m(x)\n",
    "        x = self.fc4(x)\n",
    "        x = m(x)\n",
    "        x = self.fc5(x) \n",
    "        return x\n",
    "model = angle_predict()\n",
    "if params['if_load'] == True:\n",
    "    model.load_state_dict(torch.load(loading_path))\n",
    "model = model.to(device)"
   ]
  },
  {
   "cell_type": "code",
   "execution_count": 5,
   "id": "10e0f4c1-9ada-4375-8b98-d0e332238be3",
   "metadata": {},
   "outputs": [
    {
     "name": "stdout",
     "output_type": "stream",
     "text": [
      "epoch:  1 loss:  6.589221875 \t loss_angle: 0.7499439453125 \t loss_angle_tt: 5.83928046875\n",
      "epoch:  11 loss:  6.58091953125 \t loss_angle: 0.745487158203125 \t loss_angle_tt: 5.835430859375\n",
      "epoch:  21 loss:  6.570996875 \t loss_angle: 0.740216796875 \t loss_angle_tt: 5.8307921875\n",
      "epoch:  31 loss:  6.558909375 \t loss_angle: 0.733730517578125 \t loss_angle_tt: 5.825175\n",
      "epoch:  41 loss:  6.54388125 \t loss_angle: 0.725522509765625 \t loss_angle_tt: 5.818354296875\n",
      "epoch:  51 loss:  6.52565703125 \t loss_angle: 0.715333544921875 \t loss_angle_tt: 5.81031875\n",
      "epoch:  61 loss:  6.504628515625 \t loss_angle: 0.7034677734375 \t loss_angle_tt: 5.801158203125\n",
      "epoch:  71 loss:  6.48049453125 \t loss_angle: 0.6901060546875 \t loss_angle_tt: 5.7903984375\n",
      "epoch:  81 loss:  6.451196875 \t loss_angle: 0.673797705078125 \t loss_angle_tt: 5.777415625\n",
      "epoch:  91 loss:  6.415979296875 \t loss_angle: 0.654089892578125 \t loss_angle_tt: 5.7618921875\n",
      "epoch:  101 loss:  6.373677734375 \t loss_angle: 0.630376416015625 \t loss_angle_tt: 5.74329453125\n",
      "epoch:  111 loss:  6.323087109375 \t loss_angle: 0.602110107421875 \t loss_angle_tt: 5.72098515625\n",
      "epoch:  121 loss:  6.2647796875 \t loss_angle: 0.57109140625 \t loss_angle_tt: 5.69367734375\n",
      "epoch:  131 loss:  6.19880234375 \t loss_angle: 0.537705517578125 \t loss_angle_tt: 5.661099609375\n",
      "epoch:  141 loss:  6.125852734375 \t loss_angle: 0.50302998046875 \t loss_angle_tt: 5.622823046875\n",
      "epoch:  151 loss:  6.049073046875 \t loss_angle: 0.469840283203125 \t loss_angle_tt: 5.579226953125\n",
      "epoch:  161 loss:  5.968765234375 \t loss_angle: 0.438141162109375 \t loss_angle_tt: 5.530635546875\n",
      "epoch:  171 loss:  5.887037890625 \t loss_angle: 0.4093329345703125 \t loss_angle_tt: 5.47770078125\n",
      "epoch:  181 loss:  5.804600390625 \t loss_angle: 0.3843580078125 \t loss_angle_tt: 5.42024453125\n",
      "epoch:  191 loss:  5.722773828125 \t loss_angle: 0.3640941162109375 \t loss_angle_tt: 5.358671484375\n",
      "epoch:  201 loss:  5.64089140625 \t loss_angle: 0.347984228515625 \t loss_angle_tt: 5.2929078125\n",
      "epoch:  211 loss:  5.55921875 \t loss_angle: 0.3364107177734375 \t loss_angle_tt: 5.2228109375\n",
      "epoch:  221 loss:  5.476462890625 \t loss_angle: 0.3298913330078125 \t loss_angle_tt: 5.14657265625\n",
      "epoch:  231 loss:  5.38971640625 \t loss_angle: 0.327618017578125 \t loss_angle_tt: 5.062103125\n",
      "epoch:  241 loss:  5.2977171875 \t loss_angle: 0.3295111083984375 \t loss_angle_tt: 4.968206640625\n",
      "epoch:  251 loss:  5.199975390625 \t loss_angle: 0.336032666015625 \t loss_angle_tt: 4.863949609375\n",
      "epoch:  261 loss:  5.09356171875 \t loss_angle: 0.3448705078125 \t loss_angle_tt: 4.748696484375\n",
      "epoch:  271 loss:  4.974309375 \t loss_angle: 0.35534052734375 \t loss_angle_tt: 4.618967578125\n",
      "epoch:  281 loss:  4.841955859375 \t loss_angle: 0.368277587890625 \t loss_angle_tt: 4.47367890625\n",
      "epoch:  291 loss:  4.694846875 \t loss_angle: 0.3836043701171875 \t loss_angle_tt: 4.311238671875\n",
      "epoch:  301 loss:  4.53139609375 \t loss_angle: 0.4002869873046875 \t loss_angle_tt: 4.131108984375\n",
      "epoch:  311 loss:  4.349704296875 \t loss_angle: 0.415720068359375 \t loss_angle_tt: 3.933976953125\n",
      "epoch:  321 loss:  4.150603515625 \t loss_angle: 0.428433447265625 \t loss_angle_tt: 3.72216875\n",
      "epoch:  331 loss:  3.9476953125 \t loss_angle: 0.4344490234375 \t loss_angle_tt: 3.513245703125\n",
      "epoch:  341 loss:  3.744639453125 \t loss_angle: 0.4317759765625 \t loss_angle_tt: 3.312865625\n",
      "epoch:  351 loss:  3.5392296875 \t loss_angle: 0.4215939453125 \t loss_angle_tt: 3.117627734375\n",
      "epoch:  361 loss:  3.331791796875 \t loss_angle: 0.4053130615234375 \t loss_angle_tt: 2.926475\n",
      "epoch:  371 loss:  3.1225419921875 \t loss_angle: 0.3832271484375 \t loss_angle_tt: 2.739312109375\n",
      "epoch:  381 loss:  2.912332421875 \t loss_angle: 0.35885947265625 \t loss_angle_tt: 2.5534751953125\n",
      "epoch:  391 loss:  2.7021103515625 \t loss_angle: 0.33446748046875 \t loss_angle_tt: 2.3676416015625\n",
      "epoch:  401 loss:  2.492250390625 \t loss_angle: 0.314146240234375 \t loss_angle_tt: 2.1781076171875\n",
      "epoch:  411 loss:  2.293210546875 \t loss_angle: 0.2953125 \t loss_angle_tt: 1.9979009765625\n",
      "epoch:  421 loss:  2.1078099609375 \t loss_angle: 0.27425556640625 \t loss_angle_tt: 1.8335533203125\n",
      "epoch:  431 loss:  1.93434140625 \t loss_angle: 0.25086083984375 \t loss_angle_tt: 1.68348203125\n",
      "epoch:  441 loss:  1.773729296875 \t loss_angle: 0.224506884765625 \t loss_angle_tt: 1.54922177734375\n",
      "epoch:  451 loss:  1.62802431640625 \t loss_angle: 0.20151748046875 \t loss_angle_tt: 1.42650693359375\n",
      "epoch:  461 loss:  1.50054521484375 \t loss_angle: 0.18740390625 \t loss_angle_tt: 1.31314248046875\n",
      "epoch:  471 loss:  1.392963671875 \t loss_angle: 0.17866138916015625 \t loss_angle_tt: 1.21430126953125\n",
      "epoch:  481 loss:  1.29962109375 \t loss_angle: 0.17192724609375 \t loss_angle_tt: 1.12769072265625\n",
      "epoch:  491 loss:  1.2145533203125 \t loss_angle: 0.16624281005859376 \t loss_angle_tt: 1.048311328125\n",
      "epoch:  501 loss:  1.13582275390625 \t loss_angle: 0.16063614501953125 \t loss_angle_tt: 0.97518447265625\n",
      "epoch:  511 loss:  1.0623908203125 \t loss_angle: 0.1546501708984375 \t loss_angle_tt: 0.9077419921875\n",
      "epoch:  521 loss:  0.99438505859375 \t loss_angle: 0.14866795654296874 \t loss_angle_tt: 0.8457181640625\n",
      "epoch:  531 loss:  0.93155615234375 \t loss_angle: 0.14286282958984375 \t loss_angle_tt: 0.788693701171875\n",
      "epoch:  541 loss:  0.8732494140625 \t loss_angle: 0.13677275390625 \t loss_angle_tt: 0.736474658203125\n",
      "epoch:  551 loss:  0.81860751953125 \t loss_angle: 0.130744140625 \t loss_angle_tt: 0.687862353515625\n",
      "epoch:  561 loss:  0.7675234375 \t loss_angle: 0.1249248779296875 \t loss_angle_tt: 0.642598388671875\n",
      "epoch:  571 loss:  0.719458349609375 \t loss_angle: 0.11934776611328125 \t loss_angle_tt: 0.600109912109375\n",
      "epoch:  581 loss:  0.675260595703125 \t loss_angle: 0.11433253173828126 \t loss_angle_tt: 0.5609287109375\n",
      "epoch:  591 loss:  0.634456884765625 \t loss_angle: 0.109739501953125 \t loss_angle_tt: 0.524715625\n",
      "epoch:  601 loss:  0.597763037109375 \t loss_angle: 0.105363037109375 \t loss_angle_tt: 0.4923998046875\n",
      "epoch:  611 loss:  0.56364375 \t loss_angle: 0.10130321044921875 \t loss_angle_tt: 0.46234052734375\n",
      "epoch:  621 loss:  0.5321615234375 \t loss_angle: 0.09739533081054688 \t loss_angle_tt: 0.434766357421875\n",
      "epoch:  631 loss:  0.503057470703125 \t loss_angle: 0.093729150390625 \t loss_angle_tt: 0.4093286376953125\n",
      "epoch:  641 loss:  0.476641552734375 \t loss_angle: 0.09026852416992187 \t loss_angle_tt: 0.3863724853515625\n",
      "epoch:  651 loss:  0.452425146484375 \t loss_angle: 0.0869908447265625 \t loss_angle_tt: 0.365434912109375\n",
      "epoch:  661 loss:  0.430397802734375 \t loss_angle: 0.084152734375 \t loss_angle_tt: 0.3462455322265625\n",
      "epoch:  671 loss:  0.41058193359375 \t loss_angle: 0.08157047119140624 \t loss_angle_tt: 0.329011279296875\n",
      "epoch:  681 loss:  0.3927044921875 \t loss_angle: 0.07917654418945312 \t loss_angle_tt: 0.313527783203125\n"
     ]
    },
    {
     "ename": "KeyboardInterrupt",
     "evalue": "",
     "output_type": "error",
     "traceback": [
      "\u001b[0;31m---------------------------------------------------------------------------\u001b[0m",
      "\u001b[0;31mKeyboardInterrupt\u001b[0m                         Traceback (most recent call last)",
      "Cell \u001b[0;32mIn[5], line 30\u001b[0m\n\u001b[1;32m     28\u001b[0m     count \u001b[38;5;241m+\u001b[39m\u001b[38;5;241m=\u001b[39m \u001b[38;5;241m1\u001b[39m\n\u001b[1;32m     29\u001b[0m     opt\u001b[38;5;241m.\u001b[39mzero_grad()\n\u001b[0;32m---> 30\u001b[0m     \u001b[43mloss\u001b[49m\u001b[38;5;241;43m.\u001b[39;49m\u001b[43mbackward\u001b[49m\u001b[43m(\u001b[49m\u001b[43m)\u001b[49m\n\u001b[1;32m     31\u001b[0m     opt\u001b[38;5;241m.\u001b[39mstep()\n\u001b[1;32m     32\u001b[0m model\u001b[38;5;241m.\u001b[39meval()\n",
      "File \u001b[0;32m/mnt/ssd1/stilrmy/anaconda3/envs/pytorch/lib/python3.10/site-packages/torch/_tensor.py:487\u001b[0m, in \u001b[0;36mTensor.backward\u001b[0;34m(self, gradient, retain_graph, create_graph, inputs)\u001b[0m\n\u001b[1;32m    477\u001b[0m \u001b[38;5;28;01mif\u001b[39;00m has_torch_function_unary(\u001b[38;5;28mself\u001b[39m):\n\u001b[1;32m    478\u001b[0m     \u001b[38;5;28;01mreturn\u001b[39;00m handle_torch_function(\n\u001b[1;32m    479\u001b[0m         Tensor\u001b[38;5;241m.\u001b[39mbackward,\n\u001b[1;32m    480\u001b[0m         (\u001b[38;5;28mself\u001b[39m,),\n\u001b[0;32m   (...)\u001b[0m\n\u001b[1;32m    485\u001b[0m         inputs\u001b[38;5;241m=\u001b[39minputs,\n\u001b[1;32m    486\u001b[0m     )\n\u001b[0;32m--> 487\u001b[0m \u001b[43mtorch\u001b[49m\u001b[38;5;241;43m.\u001b[39;49m\u001b[43mautograd\u001b[49m\u001b[38;5;241;43m.\u001b[39;49m\u001b[43mbackward\u001b[49m\u001b[43m(\u001b[49m\n\u001b[1;32m    488\u001b[0m \u001b[43m    \u001b[49m\u001b[38;5;28;43mself\u001b[39;49m\u001b[43m,\u001b[49m\u001b[43m \u001b[49m\u001b[43mgradient\u001b[49m\u001b[43m,\u001b[49m\u001b[43m \u001b[49m\u001b[43mretain_graph\u001b[49m\u001b[43m,\u001b[49m\u001b[43m \u001b[49m\u001b[43mcreate_graph\u001b[49m\u001b[43m,\u001b[49m\u001b[43m \u001b[49m\u001b[43minputs\u001b[49m\u001b[38;5;241;43m=\u001b[39;49m\u001b[43minputs\u001b[49m\n\u001b[1;32m    489\u001b[0m \u001b[43m\u001b[49m\u001b[43m)\u001b[49m\n",
      "File \u001b[0;32m/mnt/ssd1/stilrmy/anaconda3/envs/pytorch/lib/python3.10/site-packages/torch/autograd/__init__.py:200\u001b[0m, in \u001b[0;36mbackward\u001b[0;34m(tensors, grad_tensors, retain_graph, create_graph, grad_variables, inputs)\u001b[0m\n\u001b[1;32m    195\u001b[0m     retain_graph \u001b[38;5;241m=\u001b[39m create_graph\n\u001b[1;32m    197\u001b[0m \u001b[38;5;66;03m# The reason we repeat same the comment below is that\u001b[39;00m\n\u001b[1;32m    198\u001b[0m \u001b[38;5;66;03m# some Python versions print out the first line of a multi-line function\u001b[39;00m\n\u001b[1;32m    199\u001b[0m \u001b[38;5;66;03m# calls in the traceback and some print out the last line\u001b[39;00m\n\u001b[0;32m--> 200\u001b[0m \u001b[43mVariable\u001b[49m\u001b[38;5;241;43m.\u001b[39;49m\u001b[43m_execution_engine\u001b[49m\u001b[38;5;241;43m.\u001b[39;49m\u001b[43mrun_backward\u001b[49m\u001b[43m(\u001b[49m\u001b[43m  \u001b[49m\u001b[38;5;66;43;03m# Calls into the C++ engine to run the backward pass\u001b[39;49;00m\n\u001b[1;32m    201\u001b[0m \u001b[43m    \u001b[49m\u001b[43mtensors\u001b[49m\u001b[43m,\u001b[49m\u001b[43m \u001b[49m\u001b[43mgrad_tensors_\u001b[49m\u001b[43m,\u001b[49m\u001b[43m \u001b[49m\u001b[43mretain_graph\u001b[49m\u001b[43m,\u001b[49m\u001b[43m \u001b[49m\u001b[43mcreate_graph\u001b[49m\u001b[43m,\u001b[49m\u001b[43m \u001b[49m\u001b[43minputs\u001b[49m\u001b[43m,\u001b[49m\n\u001b[1;32m    202\u001b[0m \u001b[43m    \u001b[49m\u001b[43mallow_unreachable\u001b[49m\u001b[38;5;241;43m=\u001b[39;49m\u001b[38;5;28;43;01mTrue\u001b[39;49;00m\u001b[43m,\u001b[49m\u001b[43m \u001b[49m\u001b[43maccumulate_grad\u001b[49m\u001b[38;5;241;43m=\u001b[39;49m\u001b[38;5;28;43;01mTrue\u001b[39;49;00m\u001b[43m)\u001b[49m\n",
      "\u001b[0;31mKeyboardInterrupt\u001b[0m: "
     ]
    }
   ],
   "source": [
    "opt = torch.optim.Adam(model.parameters(), lr=params['learning_rate'])\n",
    "for epoch in range(params['epochs']):\n",
    "    loss_sum = 0\n",
    "    loss_angle_sum = 0\n",
    "    loss_angle_t_sum = 0\n",
    "    loss_angle_tt_sum = 0\n",
    "    count = 0 \n",
    "    model.train()\n",
    "    for i in range(len(data['z'])//params['batch_size']):\n",
    "        image_temp = image[i*params['batch_size']:(i+1)*params['batch_size'],:]\n",
    "        angle_temp = angle[i*params['batch_size']:(i+1)*params['batch_size']]\n",
    "        angle_t_temp = angle_t[i*params['batch_size']:(i+1)*params['batch_size']]\n",
    "        angle_tt_temp = angle_tt[i*params['batch_size']:(i+1)*params['batch_size']]\n",
    "        for j in range(image_temp.shape[0]):\n",
    "            input = Variable(torch.tensor(image_temp[j,:],dtype=torch.float32).to(device))\n",
    "            pre = model.forward(input)\n",
    "            angle_true = torch.tensor(angle_temp[j],dtype=torch.float32).to(device)\n",
    "            angle_t_true = torch.tensor(angle_t_temp[j],dtype=torch.float32).to(device)\n",
    "            angle_tt_true = torch.tensor(angle_tt_temp[j],dtype=torch.float32).to(device)\n",
    "            loss_angle = torch.abs(angle_true - pre[0])\n",
    "            #loss_angle_t = torch.abs(angle_t_true - pre[1])\n",
    "            loss_angle_tt = torch.abs(angle_tt_true - pre[1])\n",
    "            loss = loss_angle + loss_angle_tt\n",
    "            loss_sum += loss\n",
    "            loss_angle_sum += loss_angle\n",
    "            #loss_angle_t_sum += loss_angle_t\n",
    "            loss_angle_tt_sum += loss_angle_tt\n",
    "            count += 1\n",
    "            opt.zero_grad()\n",
    "            loss.backward()\n",
    "            opt.step()\n",
    "        model.eval()\n",
    "    loss_log.append(loss_sum.item()/count)\n",
    "    if epoch % 10 == 0:\n",
    "        print('epoch: ', epoch+1, 'loss: ', loss_sum.item()/count,\n",
    "          '\\t loss_angle:', loss_angle_sum.item()/count, \n",
    "          '\\t loss_angle_tt:',loss_angle_tt_sum.item()/count)"
   ]
  },
  {
   "cell_type": "code",
   "execution_count": 6,
   "id": "5d2f0732-dbae-4e3c-9822-e924c8cd772f",
   "metadata": {},
   "outputs": [],
   "source": [
    "def saving(model,PATH):\n",
    "    if os.path.exists(PATH) == False:\n",
    "        os.makedirs(PATH)\n",
    "    model_PATH = os.path.join(PATH, 'model.pth')\n",
    "    torch.save(model.state_dict(), model_PATH)\n",
    "    params_PATH = os.path.join(PATH, 'params.txt')\n",
    "    with open(params_PATH, 'w') as f:\n",
    "        f.write(str(params))\n",
    "        f.close()\n",
    "    loss_PATH = os.path.join(PATH, 'loss_log.csv')\n",
    "    with open(loss_PATH, 'w') as f:\n",
    "        writer = csv.writer(f)\n",
    "        writer.writerow(loss_log)\n",
    "    #fig_PATH = os.path.join(PATH, 'loss.png') \n",
    "    #plt.savefig(fig_PATH)\n",
    "    print(\"data saved\")\n",
    "    return"
   ]
  },
  {
   "cell_type": "code",
   "execution_count": 7,
   "id": "7da3e7a4-2f4a-4762-b73d-22a28daca5a3",
   "metadata": {},
   "outputs": [
    {
     "name": "stdout",
     "output_type": "stream",
     "text": [
      "data saved\n"
     ]
    }
   ],
   "source": [
    "if params['if_save'] == True:\n",
    "    saving(model,PATH)"
   ]
  },
  {
   "cell_type": "code",
   "execution_count": 8,
   "id": "b3fd32be-33e5-41ec-a778-351ea145a73f",
   "metadata": {},
   "outputs": [
    {
     "data": {
      "image/png": "[encoded data removed]",
      "text/plain": [
       "<Figure size 640x480 with 1 Axes>"
      ]
     },
     "metadata": {},
     "output_type": "display_data"
    }
   ],
   "source": [
    "#plotting result\n",
    "plt.plot(loss_log)\n",
    "fig_PATH = os.path.join(PATH, 'loss.png') \n",
    "plt.savefig(fig_PATH, bbox_inches='tight', pad_inches = +0.1)\n",
    "plt.show()"
   ]
  },
  {
   "cell_type": "code",
   "execution_count": null,
   "id": "9b83a8ec-aba7-4f62-883d-b1edf428ef0d",
   "metadata": {},
   "outputs": [],
   "source": [
    "print(PATH)"
   ]
  },
  {
   "cell_type": "code",
   "execution_count": null,
   "id": "29d534ce-b7c1-4f7c-903d-491465843b0e",
   "metadata": {},
   "outputs": [],
   "source": []
  }
 ],
 "metadata": {
  "kernelspec": {
   "display_name": "pytorch",
   "language": "python",
   "name": "pytorch"
  },
  "language_info": {
   "codemirror_mode": {
    "name": "ipython",
    "version": 3
   },
   "file_extension": ".py",
   "mimetype": "text/x-python",
   "name": "python",
   "nbconvert_exporter": "python",
   "pygments_lexer": "ipython3",
   "version": "3.10.10"
  }
 },
 "nbformat": 4,
 "nbformat_minor": 5
}
