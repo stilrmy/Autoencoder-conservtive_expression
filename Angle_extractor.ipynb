{
 "cells": [
  {
   "cell_type": "code",
   "execution_count": 1,
   "id": "642c4171-7a8c-4fd1-a735-970960ccb3fa",
   "metadata": {},
   "outputs": [
    {
     "name": "stdout",
     "output_type": "stream",
     "text": [
      "1.362245847383745e-81\n"
     ]
    }
   ],
   "source": [
    "def __clear_env():\n",
    "    for key in globals().keys():\n",
    "        if not key.startswith(\"__\"):# 排除系统内建函数\n",
    "            globals().pop(key)\n",
    "__clear_env\n",
    "import example_pendulum\n",
    "import torch; torch.manual_seed(0)\n",
    "import torch.nn as nn\n",
    "import torch.nn.functional as F\n",
    "import torch.utils\n",
    "import torch.distributions\n",
    "#import torchvision\n",
    "import numpy as np\n",
    "import os\n",
    "import matplotlib.pyplot as plt\n",
    "import pickle\n",
    "import csv\n",
    "import datetime\n",
    "from torch.autograd import Variable"
   ]
  },
  {
   "cell_type": "code",
   "execution_count": 2,
   "id": "c6550da5-2d80-4a4e-b049-82e921c51a13",
   "metadata": {},
   "outputs": [
    {
     "name": "stdout",
     "output_type": "stream",
     "text": [
      "(5000, 2601)\n"
     ]
    }
   ],
   "source": [
    "device = 'cuda:0'\n",
    "data = example_pendulum.get_pendulum_data(10)\n",
    "image = data['x']\n",
    "image_t = data['dx']\n",
    "image_tt = data['ddx']\n",
    "angle = data['z']\n",
    "angle_t = data['dz']\n",
    "angle_tt = data['ddz']\n",
    "print(image.shape)"
   ]
  },
  {
   "cell_type": "code",
   "execution_count": 3,
   "id": "76326faa-47ae-4ec0-8d70-812de3ec240a",
   "metadata": {},
   "outputs": [
    {
     "name": "stdout",
     "output_type": "stream",
     "text": [
      "/mnt/ssd1/stilrmy/Angle_detector/progress/4-7/1/model.pth\n"
     ]
    }
   ],
   "source": [
    "environment = \"server\"\n",
    "loss_log = []\n",
    "params = {}\n",
    "#params['learning_rate'] = trial.suggest_float('lr',0,1)\n",
    "params['epochs'] = 20000\n",
    "params['batch_size'] = 500\n",
    "if environment == 'laptop':\n",
    "    params['root_dir'] =R'C:\\Users\\87106\\OneDrive\\sindy\\progress'\n",
    "elif environment == 'desktop':\n",
    "    params['root_dir'] = R'E:\\OneDrive\\sindy\\progress'\n",
    "elif environment == 'server':\n",
    "    params['root_dir'] = R'/mnt/ssd1/stilrmy/Angle_detector/progress'\n",
    "params['learning_rate'] = 1e-8\n",
    "\n",
    "# save parameters\n",
    "params['if_save'] = True\n",
    "params['save_date'] = str(datetime.date.today())\n",
    "params['save_ver'] = '1'\n",
    "#load parameters\n",
    "params['if_load'] = False\n",
    "params['load_date'] = '4-7'\n",
    "params['load_ver'] = '1'\n",
    "PATH = os.path.join(params['root_dir'], params['save_date'],params['save_ver'])\n",
    "loading_path = os.path.join(params['root_dir'], params['load_date'],params['load_ver'],'model.pth')\n",
    "print(loading_path)"
   ]
  },
  {
   "cell_type": "code",
   "execution_count": 4,
   "id": "5e2c1e4e-ec39-44e7-b546-a945a119721d",
   "metadata": {},
   "outputs": [],
   "source": [
    "class angle_predict(nn.Module):\n",
    "    def __init__(self):\n",
    "        super(angle_predict, self).__init__()\n",
    "        self.fc1 = nn.Linear(2601, 1024)\n",
    "        self.fc2 = nn.Linear(1024, 512)\n",
    "        self.fc3 = nn.Linear(512, 256)\n",
    "        self.fc4 = nn.Linear(256, 64)\n",
    "        self.fc5 = nn.Linear(64, 2)\n",
    "    def forward(self, x):\n",
    "        m = nn.ReLU()\n",
    "        x = self.fc1(x)\n",
    "        x = m(x)\n",
    "        x = self.fc2(x)\n",
    "        x = m(x)\n",
    "        x = self.fc3(x)\n",
    "        x = m(x)\n",
    "        x = self.fc4(x)\n",
    "        x = m(x)\n",
    "        x = self.fc5(x) \n",
    "        return x\n",
    "model = angle_predict()\n",
    "if params['if_load'] == True:\n",
    "    model.load_state_dict(torch.load(loading_path))\n",
    "model = model.to(device)"
   ]
  },
  {
   "cell_type": "code",
   "execution_count": 5,
   "id": "10e0f4c1-9ada-4375-8b98-d0e332238be3",
   "metadata": {},
   "outputs": [
    {
     "name": "stdout",
     "output_type": "stream",
     "text": [
      "epoch:  1 loss:  6.006004296875 \t loss_angle: 0.723547412109375 \t loss_angle_tt: 5.28245859375\n",
      "epoch:  101 loss:  5.811034765625 \t loss_angle: 0.615618896484375 \t loss_angle_tt: 5.19541640625\n",
      "epoch:  201 loss:  5.22442890625 \t loss_angle: 0.40757177734375 \t loss_angle_tt: 4.81685390625\n",
      "epoch:  301 loss:  4.215721875 \t loss_angle: 0.444155419921875 \t loss_angle_tt: 3.77157578125\n",
      "epoch:  401 loss:  2.623344921875 \t loss_angle: 0.349062939453125 \t loss_angle_tt: 2.2742724609375\n",
      "epoch:  501 loss:  1.3670720703125 \t loss_angle: 0.2210453369140625 \t loss_angle_tt: 1.14602666015625\n",
      "epoch:  601 loss:  0.762110791015625 \t loss_angle: 0.1810248291015625 \t loss_angle_tt: 0.581086328125\n",
      "epoch:  701 loss:  0.520661376953125 \t loss_angle: 0.1362961181640625 \t loss_angle_tt: 0.3843645263671875\n",
      "epoch:  801 loss:  0.378527587890625 \t loss_angle: 0.108422509765625 \t loss_angle_tt: 0.2701048828125\n",
      "epoch:  901 loss:  0.27088486328125 \t loss_angle: 0.09030791015625 \t loss_angle_tt: 0.180576708984375\n",
      "epoch:  1001 loss:  0.16995994873046874 \t loss_angle: 0.07432691650390626 \t loss_angle_tt: 0.09563316040039062\n",
      "epoch:  1101 loss:  0.09964320678710938 \t loss_angle: 0.06233307495117187 \t loss_angle_tt: 0.03730994567871094\n",
      "epoch:  1201 loss:  0.06667569580078125 \t loss_angle: 0.05511956787109375 \t loss_angle_tt: 0.011555911254882813\n",
      "epoch:  1301 loss:  0.055129345703125 \t loss_angle: 0.05163865966796875 \t loss_angle_tt: 0.0034906211853027343\n",
      "epoch:  1401 loss:  0.0510898681640625 \t loss_angle: 0.04946783142089844 \t loss_angle_tt: 0.001622076988220215\n",
      "epoch:  1501 loss:  0.0482380615234375 \t loss_angle: 0.0471865234375 \t loss_angle_tt: 0.0010514592170715333\n",
      "epoch:  1601 loss:  0.04580618286132813 \t loss_angle: 0.045023046875 \t loss_angle_tt: 0.0007831257820129395\n",
      "epoch:  1701 loss:  0.04357994384765625 \t loss_angle: 0.042901910400390625 \t loss_angle_tt: 0.0006779428482055664\n",
      "epoch:  1801 loss:  0.0414045654296875 \t loss_angle: 0.04081676025390625 \t loss_angle_tt: 0.0005877380847930908\n",
      "epoch:  1901 loss:  0.03935036010742188 \t loss_angle: 0.03879728088378906 \t loss_angle_tt: 0.0005530428886413574\n",
      "epoch:  2001 loss:  0.03745219421386719 \t loss_angle: 0.03693448486328125 \t loss_angle_tt: 0.000517740249633789\n",
      "epoch:  2101 loss:  0.03571439819335937 \t loss_angle: 0.03520824890136719 \t loss_angle_tt: 0.000506079626083374\n",
      "epoch:  2201 loss:  0.03402384033203125 \t loss_angle: 0.03358706665039062 \t loss_angle_tt: 0.0004367500305175781\n",
      "epoch:  2301 loss:  0.032493060302734376 \t loss_angle: 0.032058416748046874 \t loss_angle_tt: 0.00043460731506347655\n",
      "epoch:  2401 loss:  0.031046670532226563 \t loss_angle: 0.030646810913085937 \t loss_angle_tt: 0.00039984145164489743\n",
      "epoch:  2501 loss:  0.029667544555664064 \t loss_angle: 0.029299539184570313 \t loss_angle_tt: 0.0003680264711380005\n",
      "epoch:  2601 loss:  0.028414642333984375 \t loss_angle: 0.028028927612304688 \t loss_angle_tt: 0.00038569283485412597\n",
      "epoch:  2701 loss:  0.0271995361328125 \t loss_angle: 0.02682065734863281 \t loss_angle_tt: 0.00037888176441192625\n",
      "epoch:  2801 loss:  0.026010369873046876 \t loss_angle: 0.0256470947265625 \t loss_angle_tt: 0.00036326062679290774\n",
      "epoch:  2901 loss:  0.024978469848632813 \t loss_angle: 0.024582704162597658 \t loss_angle_tt: 0.00039577744007110596\n",
      "epoch:  3001 loss:  0.023872579956054688 \t loss_angle: 0.023520906066894533 \t loss_angle_tt: 0.00035168702602386475\n",
      "epoch:  3101 loss:  0.02286714630126953 \t loss_angle: 0.022527926635742188 \t loss_angle_tt: 0.00033920989036560057\n",
      "epoch:  3201 loss:  0.021969979858398436 \t loss_angle: 0.021577377319335938 \t loss_angle_tt: 0.0003926008701324463\n",
      "epoch:  3301 loss:  0.02101422882080078 \t loss_angle: 0.020613156127929688 \t loss_angle_tt: 0.0004010723114013672\n",
      "epoch:  3401 loss:  0.020047520446777344 \t loss_angle: 0.019675401306152345 \t loss_angle_tt: 0.00037212884426116944\n",
      "epoch:  3501 loss:  0.019167951965332032 \t loss_angle: 0.018809194946289062 \t loss_angle_tt: 0.00035874428749084475\n",
      "epoch:  3601 loss:  0.01835311279296875 \t loss_angle: 0.017983094787597655 \t loss_angle_tt: 0.0003700171709060669\n",
      "epoch:  3701 loss:  0.017599534606933594 \t loss_angle: 0.017199017333984375 \t loss_angle_tt: 0.0004004977226257324\n",
      "epoch:  3801 loss:  0.016750604248046874 \t loss_angle: 0.016400730895996092 \t loss_angle_tt: 0.00034987757205963134\n",
      "epoch:  3901 loss:  0.016046945190429686 \t loss_angle: 0.015661744689941408 \t loss_angle_tt: 0.0003851853847503662\n",
      "epoch:  4001 loss:  0.015273634338378906 \t loss_angle: 0.014924952697753907 \t loss_angle_tt: 0.00034870336055755615\n",
      "epoch:  4101 loss:  0.014579899597167968 \t loss_angle: 0.01423096923828125 \t loss_angle_tt: 0.00034889774322509765\n",
      "epoch:  4201 loss:  0.01394736785888672 \t loss_angle: 0.013576002502441406 \t loss_angle_tt: 0.00037136597633361814\n",
      "epoch:  4301 loss:  0.013262507629394531 \t loss_angle: 0.012910731506347656 \t loss_angle_tt: 0.00035177927017211914\n",
      "epoch:  4401 loss:  0.012656184387207031 \t loss_angle: 0.012284739685058594 \t loss_angle_tt: 0.0003714425802230835\n",
      "epoch:  4501 loss:  0.012022784423828125 \t loss_angle: 0.011681903839111328 \t loss_angle_tt: 0.00034088547229766845\n",
      "epoch:  4601 loss:  0.011440897369384766 \t loss_angle: 0.011108184051513672 \t loss_angle_tt: 0.00033272104263305666\n",
      "epoch:  4701 loss:  0.01094120864868164 \t loss_angle: 0.010579190063476563 \t loss_angle_tt: 0.0003620101690292358\n",
      "epoch:  4801 loss:  0.010402957153320312 \t loss_angle: 0.01004263916015625 \t loss_angle_tt: 0.0003603019952774048\n",
      "epoch:  4901 loss:  0.009886911010742188 \t loss_angle: 0.009524713134765625 \t loss_angle_tt: 0.00036220061779022216\n",
      "epoch:  5001 loss:  0.00938758544921875 \t loss_angle: 0.009022940826416016 \t loss_angle_tt: 0.0003646465301513672\n",
      "epoch:  5101 loss:  0.00891805419921875 \t loss_angle: 0.008546626281738282 \t loss_angle_tt: 0.000371435546875\n",
      "epoch:  5201 loss:  0.00845031509399414 \t loss_angle: 0.008085533142089844 \t loss_angle_tt: 0.0003647695302963257\n",
      "epoch:  5301 loss:  0.007997093963623046 \t loss_angle: 0.007637509155273437 \t loss_angle_tt: 0.0003595658540725708\n",
      "epoch:  5401 loss:  0.007566161346435547 \t loss_angle: 0.007206186676025391 \t loss_angle_tt: 0.0003599551439285278\n",
      "epoch:  5501 loss:  0.0071695167541503905 \t loss_angle: 0.006799847412109375 \t loss_angle_tt: 0.00036967360973358155\n",
      "epoch:  5601 loss:  0.006754142761230469 \t loss_angle: 0.006387625503540039 \t loss_angle_tt: 0.00036651468276977536\n",
      "epoch:  5701 loss:  0.0063939781188964845 \t loss_angle: 0.00602193489074707 \t loss_angle_tt: 0.00037204718589782716\n",
      "epoch:  5801 loss:  0.006037306213378907 \t loss_angle: 0.0056558708190917965 \t loss_angle_tt: 0.0003814483880996704\n",
      "epoch:  5901 loss:  0.005609603500366211 \t loss_angle: 0.005263595199584961 \t loss_angle_tt: 0.0003460118770599365\n",
      "epoch:  6001 loss:  0.005313885116577148 \t loss_angle: 0.004921949768066407 \t loss_angle_tt: 0.0003919349193572998\n",
      "epoch:  6101 loss:  0.004928860473632813 \t loss_angle: 0.004591261672973633 \t loss_angle_tt: 0.00033759427070617675\n",
      "epoch:  6201 loss:  0.004659666061401367 \t loss_angle: 0.004294162750244141 \t loss_angle_tt: 0.00036549723148345946\n",
      "epoch:  6301 loss:  0.004362429809570313 \t loss_angle: 0.0039919296264648435 \t loss_angle_tt: 0.00037049353122711184\n",
      "epoch:  6401 loss:  0.004041415405273438 \t loss_angle: 0.0037012203216552735 \t loss_angle_tt: 0.0003401884078979492\n",
      "epoch:  6501 loss:  0.0037960796356201172 \t loss_angle: 0.003435394287109375 \t loss_angle_tt: 0.0003606816291809082\n",
      "epoch:  6601 loss:  0.0035797405242919923 \t loss_angle: 0.0031921707153320313 \t loss_angle_tt: 0.00038757350444793703\n",
      "epoch:  6701 loss:  0.0033262542724609373 \t loss_angle: 0.0029510848999023437 \t loss_angle_tt: 0.00037516725063323973\n",
      "epoch:  6801 loss:  0.0031153196334838865 \t loss_angle: 0.0027347509384155273 \t loss_angle_tt: 0.00038056752681732176\n",
      "epoch:  6901 loss:  0.0029009639739990233 \t loss_angle: 0.0025236431121826173 \t loss_angle_tt: 0.0003773202896118164\n",
      "epoch:  7001 loss:  0.002691543960571289 \t loss_angle: 0.002322228240966797 \t loss_angle_tt: 0.00036931486129760744\n",
      "epoch:  7101 loss:  0.0024705245971679687 \t loss_angle: 0.0021311601638793944 \t loss_angle_tt: 0.000339362359046936\n",
      "epoch:  7201 loss:  0.0023719318389892577 \t loss_angle: 0.001993889617919922 \t loss_angle_tt: 0.000378043532371521\n",
      "epoch:  7301 loss:  0.0022169063568115233 \t loss_angle: 0.0018311538696289063 \t loss_angle_tt: 0.0003857481956481934\n",
      "epoch:  7401 loss:  0.002065309524536133 \t loss_angle: 0.001689495086669922 \t loss_angle_tt: 0.0003758152008056641\n",
      "epoch:  7501 loss:  0.0019157312393188477 \t loss_angle: 0.001560341739654541 \t loss_angle_tt: 0.0003553896188735962\n",
      "epoch:  7601 loss:  0.0017691450119018555 \t loss_angle: 0.0014274245262145995 \t loss_angle_tt: 0.00034172637462615967\n",
      "epoch:  7701 loss:  0.001671755599975586 \t loss_angle: 0.0013157699584960937 \t loss_angle_tt: 0.0003559812068939209\n",
      "epoch:  7801 loss:  0.0015765976905822753 \t loss_angle: 0.0012190725326538085 \t loss_angle_tt: 0.00035752499103546145\n",
      "epoch:  7901 loss:  0.0014789536476135254 \t loss_angle: 0.0011301913261413574 \t loss_angle_tt: 0.0003487638235092163\n",
      "epoch:  8001 loss:  0.0014394121170043946 \t loss_angle: 0.0010539781570434571 \t loss_angle_tt: 0.00038543379306793215\n",
      "epoch:  8101 loss:  0.0013622319221496583 \t loss_angle: 0.00097864408493042 \t loss_angle_tt: 0.0003835875034332275\n",
      "epoch:  8201 loss:  0.0012413433074951173 \t loss_angle: 0.0008942939758300781 \t loss_angle_tt: 0.0003470489978790283\n",
      "epoch:  8301 loss:  0.0012393465042114258 \t loss_angle: 0.0008501873016357422 \t loss_angle_tt: 0.0003891616106033325\n",
      "epoch:  8401 loss:  0.001103726291656494 \t loss_angle: 0.0007652291297912597 \t loss_angle_tt: 0.0003384958267211914\n",
      "epoch:  8501 loss:  0.0010708941459655762 \t loss_angle: 0.0007160224914550781 \t loss_angle_tt: 0.00035487141609191893\n",
      "epoch:  8601 loss:  0.0010125725746154785 \t loss_angle: 0.0006601216316223144 \t loss_angle_tt: 0.0003524494886398315\n",
      "epoch:  8701 loss:  0.0009773438453674317 \t loss_angle: 0.0006182921409606933 \t loss_angle_tt: 0.00035904979705810545\n",
      "epoch:  8801 loss:  0.0009121247291564941 \t loss_angle: 0.0005692255020141602 \t loss_angle_tt: 0.0003428985357284546\n",
      "epoch:  8901 loss:  0.0008877394676208496 \t loss_angle: 0.0005316420555114746 \t loss_angle_tt: 0.00035609838962554933\n",
      "epoch:  9001 loss:  0.0008450096130371093 \t loss_angle: 0.0004905875205993653 \t loss_angle_tt: 0.00035442302227020264\n",
      "epoch:  9101 loss:  0.0008017950057983399 \t loss_angle: 0.00045851736068725586 \t loss_angle_tt: 0.0003432771921157837\n",
      "epoch:  9201 loss:  0.0007968642234802247 \t loss_angle: 0.000433441162109375 \t loss_angle_tt: 0.0003634245157241821\n",
      "epoch:  9301 loss:  0.0008343073844909668 \t loss_angle: 0.00042394781112670897 \t loss_angle_tt: 0.00041035895347595215\n",
      "epoch:  9401 loss:  0.0006851794719696045 \t loss_angle: 0.0003680106163024902 \t loss_angle_tt: 0.0003171694040298462\n",
      "epoch:  9501 loss:  0.0007722197532653808 \t loss_angle: 0.00038552846908569336 \t loss_angle_tt: 0.00038669157028198243\n",
      "epoch:  9601 loss:  0.000716752815246582 \t loss_angle: 0.0003536720037460327 \t loss_angle_tt: 0.00036308112144470213\n",
      "epoch:  9701 loss:  0.0007194344520568848 \t loss_angle: 0.0003423576831817627 \t loss_angle_tt: 0.00037707719802856443\n",
      "epoch:  9801 loss:  0.0007128520011901856 \t loss_angle: 0.0003266117572784424 \t loss_angle_tt: 0.0003862396240234375\n",
      "epoch:  9901 loss:  0.0007227608680725097 \t loss_angle: 0.0003208175897598267 \t loss_angle_tt: 0.00040194196701049805\n",
      "epoch:  10001 loss:  0.0006534051895141601 \t loss_angle: 0.0002939929008483887 \t loss_angle_tt: 0.0003594122409820557\n",
      "epoch:  10101 loss:  0.0006115213394165039 \t loss_angle: 0.0002759694337844849 \t loss_angle_tt: 0.00033555166721343995\n",
      "epoch:  10201 loss:  0.0005812651634216309 \t loss_angle: 0.0002560436010360718 \t loss_angle_tt: 0.00032522182464599607\n",
      "epoch:  10301 loss:  0.0006470484733581543 \t loss_angle: 0.00027232506275177 \t loss_angle_tt: 0.00037472350597381594\n",
      "epoch:  10401 loss:  0.0006362765789031982 \t loss_angle: 0.00026006784439086913 \t loss_angle_tt: 0.0003762088060379028\n",
      "epoch:  10501 loss:  0.0006132991790771484 \t loss_angle: 0.00024886598587036134 \t loss_angle_tt: 0.00036443235874176024\n",
      "epoch:  10601 loss:  0.0005980901718139649 \t loss_angle: 0.00023857295513153077 \t loss_angle_tt: 0.00035951695442199705\n",
      "epoch:  10701 loss:  0.0006510533332824707 \t loss_angle: 0.00025120203495025635 \t loss_angle_tt: 0.00039985103607177735\n"
     ]
    },
    {
     "ename": "KeyboardInterrupt",
     "evalue": "",
     "output_type": "error",
     "traceback": [
      "\u001b[0;31m---------------------------------------------------------------------------\u001b[0m",
      "\u001b[0;31mKeyboardInterrupt\u001b[0m                         Traceback (most recent call last)",
      "Cell \u001b[0;32mIn[5], line 30\u001b[0m\n\u001b[1;32m     28\u001b[0m     count \u001b[38;5;241m+\u001b[39m\u001b[38;5;241m=\u001b[39m \u001b[38;5;241m1\u001b[39m\n\u001b[1;32m     29\u001b[0m     opt\u001b[38;5;241m.\u001b[39mzero_grad()\n\u001b[0;32m---> 30\u001b[0m     \u001b[43mloss\u001b[49m\u001b[38;5;241;43m.\u001b[39;49m\u001b[43mbackward\u001b[49m\u001b[43m(\u001b[49m\u001b[43m)\u001b[49m\n\u001b[1;32m     31\u001b[0m     opt\u001b[38;5;241m.\u001b[39mstep()\n\u001b[1;32m     32\u001b[0m model\u001b[38;5;241m.\u001b[39meval()\n",
      "File \u001b[0;32m/mnt/ssd1/stilrmy/anaconda3/envs/pytorch/lib/python3.10/site-packages/torch/_tensor.py:487\u001b[0m, in \u001b[0;36mTensor.backward\u001b[0;34m(self, gradient, retain_graph, create_graph, inputs)\u001b[0m\n\u001b[1;32m    477\u001b[0m \u001b[38;5;28;01mif\u001b[39;00m has_torch_function_unary(\u001b[38;5;28mself\u001b[39m):\n\u001b[1;32m    478\u001b[0m     \u001b[38;5;28;01mreturn\u001b[39;00m handle_torch_function(\n\u001b[1;32m    479\u001b[0m         Tensor\u001b[38;5;241m.\u001b[39mbackward,\n\u001b[1;32m    480\u001b[0m         (\u001b[38;5;28mself\u001b[39m,),\n\u001b[0;32m   (...)\u001b[0m\n\u001b[1;32m    485\u001b[0m         inputs\u001b[38;5;241m=\u001b[39minputs,\n\u001b[1;32m    486\u001b[0m     )\n\u001b[0;32m--> 487\u001b[0m \u001b[43mtorch\u001b[49m\u001b[38;5;241;43m.\u001b[39;49m\u001b[43mautograd\u001b[49m\u001b[38;5;241;43m.\u001b[39;49m\u001b[43mbackward\u001b[49m\u001b[43m(\u001b[49m\n\u001b[1;32m    488\u001b[0m \u001b[43m    \u001b[49m\u001b[38;5;28;43mself\u001b[39;49m\u001b[43m,\u001b[49m\u001b[43m \u001b[49m\u001b[43mgradient\u001b[49m\u001b[43m,\u001b[49m\u001b[43m \u001b[49m\u001b[43mretain_graph\u001b[49m\u001b[43m,\u001b[49m\u001b[43m \u001b[49m\u001b[43mcreate_graph\u001b[49m\u001b[43m,\u001b[49m\u001b[43m \u001b[49m\u001b[43minputs\u001b[49m\u001b[38;5;241;43m=\u001b[39;49m\u001b[43minputs\u001b[49m\n\u001b[1;32m    489\u001b[0m \u001b[43m\u001b[49m\u001b[43m)\u001b[49m\n",
      "File \u001b[0;32m/mnt/ssd1/stilrmy/anaconda3/envs/pytorch/lib/python3.10/site-packages/torch/autograd/__init__.py:200\u001b[0m, in \u001b[0;36mbackward\u001b[0;34m(tensors, grad_tensors, retain_graph, create_graph, grad_variables, inputs)\u001b[0m\n\u001b[1;32m    195\u001b[0m     retain_graph \u001b[38;5;241m=\u001b[39m create_graph\n\u001b[1;32m    197\u001b[0m \u001b[38;5;66;03m# The reason we repeat same the comment below is that\u001b[39;00m\n\u001b[1;32m    198\u001b[0m \u001b[38;5;66;03m# some Python versions print out the first line of a multi-line function\u001b[39;00m\n\u001b[1;32m    199\u001b[0m \u001b[38;5;66;03m# calls in the traceback and some print out the last line\u001b[39;00m\n\u001b[0;32m--> 200\u001b[0m \u001b[43mVariable\u001b[49m\u001b[38;5;241;43m.\u001b[39;49m\u001b[43m_execution_engine\u001b[49m\u001b[38;5;241;43m.\u001b[39;49m\u001b[43mrun_backward\u001b[49m\u001b[43m(\u001b[49m\u001b[43m  \u001b[49m\u001b[38;5;66;43;03m# Calls into the C++ engine to run the backward pass\u001b[39;49;00m\n\u001b[1;32m    201\u001b[0m \u001b[43m    \u001b[49m\u001b[43mtensors\u001b[49m\u001b[43m,\u001b[49m\u001b[43m \u001b[49m\u001b[43mgrad_tensors_\u001b[49m\u001b[43m,\u001b[49m\u001b[43m \u001b[49m\u001b[43mretain_graph\u001b[49m\u001b[43m,\u001b[49m\u001b[43m \u001b[49m\u001b[43mcreate_graph\u001b[49m\u001b[43m,\u001b[49m\u001b[43m \u001b[49m\u001b[43minputs\u001b[49m\u001b[43m,\u001b[49m\n\u001b[1;32m    202\u001b[0m \u001b[43m    \u001b[49m\u001b[43mallow_unreachable\u001b[49m\u001b[38;5;241;43m=\u001b[39;49m\u001b[38;5;28;43;01mTrue\u001b[39;49;00m\u001b[43m,\u001b[49m\u001b[43m \u001b[49m\u001b[43maccumulate_grad\u001b[49m\u001b[38;5;241;43m=\u001b[39;49m\u001b[38;5;28;43;01mTrue\u001b[39;49;00m\u001b[43m)\u001b[49m\n",
      "\u001b[0;31mKeyboardInterrupt\u001b[0m: "
     ]
    }
   ],
   "source": [
    "opt = torch.optim.Adam(model.parameters(), lr=params['learning_rate'])\n",
    "for epoch in range(params['epochs']):\n",
    "    loss_sum = 0\n",
    "    loss_angle_sum = 0\n",
    "    loss_angle_t_sum = 0\n",
    "    loss_angle_tt_sum = 0\n",
    "    count = 0 \n",
    "    model.train()\n",
    "    for i in range(len(data['z'])//params['batch_size']):\n",
    "        image_temp = image[i*params['batch_size']:(i+1)*params['batch_size'],:]\n",
    "        angle_temp = angle[i*params['batch_size']:(i+1)*params['batch_size']]\n",
    "        angle_t_temp = angle_t[i*params['batch_size']:(i+1)*params['batch_size']]\n",
    "        angle_tt_temp = angle_tt[i*params['batch_size']:(i+1)*params['batch_size']]\n",
    "        for j in range(image_temp.shape[0]):\n",
    "            input = Variable(torch.tensor(image_temp[j,:],dtype=torch.float32).to(device))\n",
    "            pre = model.forward(input)\n",
    "            angle_true = torch.tensor(angle_temp[j],dtype=torch.float32).to(device)\n",
    "            angle_t_true = torch.tensor(angle_t_temp[j],dtype=torch.float32).to(device)\n",
    "            angle_tt_true = torch.tensor(angle_tt_temp[j],dtype=torch.float32).to(device)\n",
    "            loss_angle = torch.abs(angle_true - pre[0])\n",
    "            #loss_angle_t = torch.abs(angle_t_true - pre[1])\n",
    "            loss_angle_tt = torch.abs(angle_tt_true - pre[1])\n",
    "            loss = loss_angle + loss_angle_tt\n",
    "            loss_sum += loss\n",
    "            loss_angle_sum += loss_angle\n",
    "            #loss_angle_t_sum += loss_angle_t\n",
    "            loss_angle_tt_sum += loss_angle_tt\n",
    "            count += 1\n",
    "            opt.zero_grad()\n",
    "            loss.backward()\n",
    "            opt.step()\n",
    "        model.eval()\n",
    "    loss_log.append(loss_sum.item()/count)\n",
    "    if epoch % 100 == 0:\n",
    "        print('epoch: ', epoch+1, 'loss: ', loss_sum.item()/count,\n",
    "          '\\t loss_angle:', loss_angle_sum.item()/count, \n",
    "          '\\t loss_angle_tt:',loss_angle_tt_sum.item()/count)"
   ]
  },
  {
   "cell_type": "code",
   "execution_count": 7,
   "id": "5d2f0732-dbae-4e3c-9822-e924c8cd772f",
   "metadata": {},
   "outputs": [],
   "source": [
    "def saving(model,PATH):\n",
    "    if os.path.exists(PATH) == False:\n",
    "        os.makedirs(PATH)\n",
    "    model_PATH = os.path.join(PATH, 'model.pth')\n",
    "    torch.save(model.state_dict(), model_PATH)\n",
    "    params_PATH = os.path.join(PATH, 'params.txt')\n",
    "    with open(params_PATH, 'w') as f:\n",
    "        f.write(str(params))\n",
    "        f.close()\n",
    "    loss_PATH = os.path.join(PATH, 'loss_log.csv')\n",
    "    with open(loss_PATH, 'w') as f:\n",
    "        writer = csv.writer(f)\n",
    "        writer.writerow(loss_log)\n",
    "    #fig_PATH = os.path.join(PATH, 'loss.png') \n",
    "    #plt.savefig(fig_PATH)\n",
    "    print(\"data saved\")\n",
    "    return"
   ]
  },
  {
   "cell_type": "code",
   "execution_count": 8,
   "id": "7da3e7a4-2f4a-4762-b73d-22a28daca5a3",
   "metadata": {},
   "outputs": [
    {
     "name": "stdout",
     "output_type": "stream",
     "text": [
      "data saved\n"
     ]
    }
   ],
   "source": [
    "if params['if_save'] == True:\n",
    "    saving(model,PATH)"
   ]
  },
  {
   "cell_type": "code",
   "execution_count": null,
   "id": "b3fd32be-33e5-41ec-a778-351ea145a73f",
   "metadata": {},
   "outputs": [],
   "source": [
    "#plotting result\n",
    "plt.plot(loss_log)\n",
    "fig_PATH = os.path.join(PATH, 'loss.png') \n",
    "plt.savefig(fig_PATH, bbox_inches='tight', pad_inches = +0.1)\n",
    "plt.show()"
   ]
  },
  {
   "cell_type": "code",
   "execution_count": 9,
   "id": "9b83a8ec-aba7-4f62-883d-b1edf428ef0d",
   "metadata": {},
   "outputs": [
    {
     "name": "stdout",
     "output_type": "stream",
     "text": [
      "/mnt/ssd1/stilrmy/Angle_detector/progress/2023-04-25/1\n"
     ]
    }
   ],
   "source": [
    "print(PATH)"
   ]
  },
  {
   "cell_type": "code",
   "execution_count": null,
   "id": "29d534ce-b7c1-4f7c-903d-491465843b0e",
   "metadata": {},
   "outputs": [],
   "source": []
  }
 ],
 "metadata": {
  "kernelspec": {
   "display_name": "pytorch",
   "language": "python",
   "name": "pytorch"
  },
  "language_info": {
   "codemirror_mode": {
    "name": "ipython",
    "version": 3
   },
   "file_extension": ".py",
   "mimetype": "text/x-python",
   "name": "python",
   "nbconvert_exporter": "python",
   "pygments_lexer": "ipython3",
   "version": "3.10.10"
  }
 },
 "nbformat": 4,
 "nbformat_minor": 5
}
