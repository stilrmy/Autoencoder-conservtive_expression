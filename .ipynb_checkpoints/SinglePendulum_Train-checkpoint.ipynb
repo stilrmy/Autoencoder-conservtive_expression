{
 "cells": [
  {
   "cell_type": "code",
   "execution_count": 1,
   "id": "3b4594b8-44af-42ae-8c3a-b1b41b17797c",
   "metadata": {},
   "outputs": [
    {
     "name": "stdout",
     "output_type": "stream",
     "text": [
      "8.865152486035113e-66\n"
     ]
    }
   ],
   "source": [
    "import numpy as np\n",
    "import sys \n",
    "\n",
    "from autoencoder_v3 import loading_coef,encoder_forward,encoder_derivative\n",
    "from sympy import symbols, simplify, derive_by_array\n",
    "from scipy.integrate import solve_ivp\n",
    "from sympy.physics.mechanics import *\n",
    "from sympy import *\n",
    "import sympy\n",
    "import torch\n",
    "import sys\n",
    "import HLsearch as HL\n",
    "import example_pendulum\n",
    "import time\n"
   ]
  },
  {
   "cell_type": "code",
   "execution_count": 2,
   "id": "137a6272-95dd-436e-bdec-325af11f94d7",
   "metadata": {},
   "outputs": [],
   "source": [
    "device = 'cuda:0'\n",
    "data = example_pendulum.get_pendulum_data(40)"
   ]
  },
  {
   "cell_type": "code",
   "execution_count": 3,
   "id": "2489687a-e854-45d5-b549-c911709f869f",
   "metadata": {},
   "outputs": [
    {
     "name": "stdout",
     "output_type": "stream",
     "text": [
      "loading params\n",
      "torch.Size([2601, 1024])\n",
      "torch.Size([1024, 512])\n",
      "torch.Size([512, 128])\n",
      "torch.Size([128, 1])\n",
      "torch.Size([1024])\n",
      "torch.Size([512])\n",
      "torch.Size([128])\n",
      "torch.Size([1])\n",
      "torch.Size([1, 128])\n",
      "torch.Size([128, 512])\n",
      "torch.Size([512, 1024])\n",
      "torch.Size([1024, 2601])\n",
      "torch.Size([128])\n",
      "torch.Size([512])\n",
      "torch.Size([1024])\n",
      "torch.Size([2601])\n"
     ]
    }
   ],
   "source": [
    "num_sample = 100\n",
    "training = True\n",
    "save = False\n",
    "noiselevel = 2e-2\n",
    "file_route = R'C:\\Users\\87106\\OneDrive\\sindy\\progress\\AE'\n",
    "load_date = '3-20'\n",
    "load_ver = 1\n",
    "widths = [1024,512,128]\n",
    "params={}\n",
    "params['ver'] = 1\n",
    "params['date'] = '3-22'\n",
    "params['widths'] = widths\n",
    "params['activation'] = 'sigmoid'\n",
    "params = loading_coef(params,load_date,load_ver,file_route,device)\n",
    "image = torch.from_numpy(data['x']).to(torch.float32).to(device)\n",
    "image_t = torch.from_numpy(data['dx']).to(torch.float32).to(device)\n",
    "image_tt = torch.from_numpy(data['ddx']).to(torch.float32).to(device)\n",
    "x = encoder_forward(image,params)\n",
    "x = x.cpu().detach().numpy()\n",
    "dx,ddx = encoder_derivative(image,image_t,image_tt,params)\n",
    "dx = dx.cpu().detach().numpy()\n",
    "ddx = ddx.cpu().detach().numpy()\n",
    "X = []\n",
    "Xdot = []"
   ]
  },
  {
   "cell_type": "code",
   "execution_count": null,
   "id": "81a19249-2206-4776-bb1b-07503a48d4a1",
   "metadata": {},
   "outputs": [],
   "source": [
    "#adding noise\n",
    "#not modified yet\n",
    "\"\"\"\n",
    "mu, sigma = 0, noiselevel\n",
    "noise = np.random.normal(mu, sigma, X.shape[0])\n",
    "for i in range(X.shape[1]):\n",
    "    X[:,i] = X[:,i]+noise\n",
    "    Xdot[:,i] = Xdot[:,i]+noise\n",
    "\"\"\""
   ]
  },
  {
   "cell_type": "code",
   "execution_count": 7,
   "id": "971a3d0a-32ef-4bbf-a5d1-502df6cc2b2d",
   "metadata": {},
   "outputs": [
    {
     "name": "stdout",
     "output_type": "stream",
     "text": [
      "states are: (x0, x0_t)\n",
      "states derivatives are:  (x0_t, x0_tt)\n"
     ]
    }
   ],
   "source": [
    "states_dim = 2\n",
    "states = ()\n",
    "states_dot = ()\n",
    "for i in range(states_dim):\n",
    "    if(i<states_dim//2):\n",
    "        states = states + (symbols('x{}'.format(i)),)\n",
    "        states_dot = states_dot + (symbols('x{}_t'.format(i)),)\n",
    "    else:\n",
    "        states = states + (symbols('x{}_t'.format(i-states_dim//2)),)\n",
    "        states_dot = states_dot + (symbols('x{}_tt'.format(i-states_dim//2)),)\n",
    "print('states are:',states)\n",
    "print('states derivatives are: ', states_dot)\n",
    "#Turn from sympy to str\n",
    "states_sym = states\n",
    "states_dot_sym = states_dot\n",
    "states = list(str(descr) for descr in states)\n",
    "states_dot = list(str(descr) for descr in states_dot)"
   ]
  },
  {
   "cell_type": "code",
   "execution_count": 11,
   "id": "8a4a1603-0512-4b42-af82-44b6a7a5ca85",
   "metadata": {},
   "outputs": [
    {
     "name": "stdout",
     "output_type": "stream",
     "text": [
      "['x0', 'x0_t', 'sin(x0)', 'cos(x0)', 'x0**2', 'x0*x0_t', 'x0_t**2', 'x0*sin(x0)', 'x0_t*sin(x0)', 'sin(x0)**2', 'x0*cos(x0)', 'x0_t*cos(x0)', 'sin(x0)*cos(x0)', 'cos(x0)**2']\n"
     ]
    }
   ],
   "source": [
    "#build function expression for the library in str\n",
    "expr= HL.buildFunctionExpressions(2,states_dim,states,use_sine=True)\n",
    "#expr=['x0', 'x0_t', 'sin(x0)', 'cos(x0)', 'x0**2', 'x0*x0_t', 'x0_t**2', 'x0*sin(x0)', 'x0_t*sin(x0)', 'sin(x0)**2', 'x0*cos(x0)', 'x0_t*cos(x0)', 'sin(x0)*cos(x0)', 'cos(x0)**2']\n",
    "#expr=['cos(x0)','x0_t**2']\n",
    "\"a list of candidate function\"\n",
    "print(expr)\n",
    "coef = torch.ones(len(expr), device=device).data.uniform_(-10,10)"
   ]
  },
  {
   "cell_type": "code",
   "execution_count": 9,
   "id": "188d8a51-96f0-4202-a225-5db4d3672736",
   "metadata": {},
   "outputs": [],
   "source": [
    "#TBD\n",
    "#time derivative of the expressions"
   ]
  },
  {
   "cell_type": "code",
   "execution_count": null,
   "id": "695dc16c-23a0-4ae6-8a01-788633c9104b",
   "metadata": {},
   "outputs": [],
   "source": [
    "#TBD\n",
    "#loss function"
   ]
  }
 ],
 "metadata": {
  "kernelspec": {
   "display_name": "Python 3 (ipykernel)",
   "language": "python",
   "name": "python3"
  },
  "language_info": {
   "codemirror_mode": {
    "name": "ipython",
    "version": 3
   },
   "file_extension": ".py",
   "mimetype": "text/x-python",
   "name": "python",
   "nbconvert_exporter": "python",
   "pygments_lexer": "ipython3",
   "version": "3.10.9"
  }
 },
 "nbformat": 4,
 "nbformat_minor": 5
}
