{
 "cells": [
  {
   "cell_type": "code",
   "execution_count": 1,
   "id": "642c4171-7a8c-4fd1-a735-970960ccb3fa",
   "metadata": {},
   "outputs": [],
   "source": [
    "def __clear_env():\n",
    "    for key in globals().keys():\n",
    "        if not key.startswith(\"__\"):# 排除系统内建函数\n",
    "            globals().pop(key)\n",
    "__clear_env\n",
    "import example_pendulum_double_pendulum\n",
    "import torch; torch.manual_seed(0)\n",
    "import torch.nn as nn\n",
    "import torch.nn.functional as F\n",
    "import torch.utils\n",
    "import torch.distributions\n",
    "#import torchvision\n",
    "import numpy as np\n",
    "import os\n",
    "import matplotlib.pyplot as plt\n",
    "import pickle\n",
    "import csv\n",
    "import datetime\n",
    "from torch.autograd import Variable"
   ]
  },
  {
   "cell_type": "code",
   "execution_count": 2,
   "id": "76326faa-47ae-4ec0-8d70-812de3ec240a",
   "metadata": {},
   "outputs": [
    {
     "name": "stdout",
     "output_type": "stream",
     "text": [
      "./progress/angle/2023-06-11/1\n"
     ]
    }
   ],
   "source": [
    "environment = \"server\"\n",
    "loss_log = []\n",
    "params = {}\n",
    "#params['learning_rate'] = trial.suggest_float('lr',0,1)\n",
    "params['epochs'] = 2000\n",
    "params['batch_size'] = 500\n",
    "if environment == 'laptop':\n",
    "    params['root_dir'] =R'C:\\Users\\87106\\OneDrive\\sindy\\progress'\n",
    "elif environment == 'desktop':\n",
    "    params['root_dir'] = R'E:\\OneDrive\\sindy\\progress'\n",
    "elif environment == 'server':\n",
    "    params['root_dir'] = R'./progress/angle'\n",
    "params['learning_rate'] = 1e-6\n",
    "# save parameters\n",
    "params['if_save'] = True\n",
    "params['save_date'] = str(datetime.date.today())\n",
    "params['save_ver'] = '1'\n",
    "#load parameters\n",
    "params['if_load'] = False\n",
    "params['load_date'] = '2023-06-10'\n",
    "params['load_ver'] = '1'\n",
    "#noise setting\n",
    "params['adding_noise'] = False\n",
    "params['noise_type'] = 'angle_noise'\n",
    "params['noiselevel'] = 1e-3\n",
    "#pendulum length setting\n",
    "params['changing_length'] = True\n",
    "PATH = os.path.join(params['root_dir'], params['save_date'],params['save_ver'])\n",
    "loading_path = os.path.join(params['root_dir'], params['load_date'],params['load_ver'],'model.pth')\n",
    "print(PATH)"
   ]
  },
  {
   "cell_type": "code",
   "execution_count": 3,
   "id": "c6550da5-2d80-4a4e-b049-82e921c51a13",
   "metadata": {},
   "outputs": [
    {
     "name": "stdout",
     "output_type": "stream",
     "text": [
      "generating pendulum data, pendulum type: double pendulum\n",
      "(10000, 2)\n"
     ]
    }
   ],
   "source": [
    "device = 'cuda:2'\n",
    "data = example_pendulum_double_pendulum.get_pendulum_data(20,params)\n",
    "image = data['x']\n",
    "image_t = data['dx']\n",
    "image_tt = data['ddx']\n",
    "angle = data['z']\n",
    "angle_t = data['dz']\n",
    "angle_tt = data['ddz']\n",
    "print(angle.shape)"
   ]
  },
  {
   "cell_type": "code",
   "execution_count": 4,
   "id": "e6b3f118-fe7e-40aa-8727-e97655dd612a",
   "metadata": {},
   "outputs": [
    {
     "name": "stdout",
     "output_type": "stream",
     "text": [
      "(10000, 2)\n"
     ]
    }
   ],
   "source": [
    "print(angle_tt.shape)"
   ]
  },
  {
   "cell_type": "code",
   "execution_count": 5,
   "id": "5e2c1e4e-ec39-44e7-b546-a945a119721d",
   "metadata": {},
   "outputs": [],
   "source": [
    "class angle_predict(nn.Module):\n",
    "    def __init__(self):\n",
    "        super(angle_predict, self).__init__()\n",
    "        self.fc1 = nn.Linear(2601, 1024)\n",
    "        self.fc2 = nn.Linear(1024, 512)\n",
    "        self.fc3 = nn.Linear(512, 256)\n",
    "        self.fc4 = nn.Linear(256, 64)\n",
    "        self.fc5 = nn.Linear(64, 1)\n",
    "    def forward(self, x):\n",
    "        m = nn.ReLU()\n",
    "        x = self.fc1(x)\n",
    "        x = m(x)\n",
    "        x = self.fc2(x)\n",
    "        x = m(x)\n",
    "        x = self.fc3(x)\n",
    "        x = m(x)\n",
    "        x = self.fc4(x)\n",
    "        x = m(x) \n",
    "        x = self.fc5(x) \n",
    "        return x\n",
    "model = angle_predict()\n",
    "if params['if_load'] == True:\n",
    "    model.load_state_dict(torch.load(loading_path))\n",
    "model = model.to(device)"
   ]
  },
  {
   "cell_type": "code",
   "execution_count": null,
   "id": "10e0f4c1-9ada-4375-8b98-d0e332238be3",
   "metadata": {
    "tags": []
   },
   "outputs": [
    {
     "name": "stdout",
     "output_type": "stream",
     "text": [
      "epoch:  1 loss:  6.245016796875\n",
      "epoch:  26 loss:  5.5163734375\n",
      "epoch:  51 loss:  5.218746484375\n",
      "epoch:  76 loss:  5.002404296875\n",
      "epoch:  101 loss:  4.89057890625\n",
      "epoch:  126 loss:  4.808924609375\n",
      "epoch:  151 loss:  4.739750390625\n",
      "epoch:  176 loss:  4.6459203125\n",
      "epoch:  201 loss:  4.545441015625\n",
      "epoch:  226 loss:  4.45647890625\n",
      "epoch:  251 loss:  4.377875390625\n",
      "epoch:  276 loss:  4.28211171875\n",
      "epoch:  301 loss:  4.184011328125\n",
      "epoch:  326 loss:  4.101991015625\n",
      "epoch:  351 loss:  4.0193015625\n",
      "epoch:  376 loss:  3.959763671875\n",
      "epoch:  401 loss:  3.88795546875\n",
      "epoch:  426 loss:  3.814733984375\n",
      "epoch:  451 loss:  3.75835\n",
      "epoch:  476 loss:  3.69162890625\n",
      "epoch:  501 loss:  3.65092890625\n",
      "epoch:  526 loss:  3.5861234375\n",
      "epoch:  551 loss:  3.5434375\n",
      "epoch:  576 loss:  3.492209765625\n",
      "epoch:  601 loss:  3.439360546875\n",
      "epoch:  626 loss:  3.39921484375\n",
      "epoch:  651 loss:  3.356721875\n",
      "epoch:  676 loss:  3.310802734375\n",
      "epoch:  701 loss:  3.256035546875\n",
      "epoch:  726 loss:  3.2236806640625\n",
      "epoch:  751 loss:  3.172597265625\n",
      "epoch:  776 loss:  3.1311845703125\n",
      "epoch:  801 loss:  3.0801494140625\n",
      "epoch:  826 loss:  3.041522265625\n",
      "epoch:  851 loss:  3.030036328125\n",
      "epoch:  876 loss:  2.9852453125\n",
      "epoch:  901 loss:  2.9611201171875\n",
      "epoch:  926 loss:  2.933191015625\n",
      "epoch:  951 loss:  2.9041083984375\n",
      "epoch:  976 loss:  2.881737890625\n",
      "epoch:  1001 loss:  2.85834453125\n",
      "epoch:  1026 loss:  2.8309171875\n",
      "epoch:  1051 loss:  2.787873046875\n",
      "epoch:  1076 loss:  2.7698955078125\n",
      "epoch:  1101 loss:  2.743306640625\n",
      "epoch:  1126 loss:  2.7025935546875\n",
      "epoch:  1151 loss:  2.689725390625\n",
      "epoch:  1176 loss:  2.664540625\n",
      "epoch:  1201 loss:  2.64974765625\n",
      "epoch:  1226 loss:  2.6189744140625\n",
      "epoch:  1251 loss:  2.5990177734375\n",
      "epoch:  1276 loss:  2.5864376953125\n",
      "epoch:  1301 loss:  2.555037890625\n",
      "epoch:  1326 loss:  2.53941328125\n",
      "epoch:  1351 loss:  2.5250939453125\n",
      "epoch:  1376 loss:  2.5108681640625\n",
      "epoch:  1401 loss:  2.4936689453125\n",
      "epoch:  1426 loss:  2.4603390625\n",
      "epoch:  1451 loss:  2.44089921875\n",
      "epoch:  1476 loss:  2.4546525390625\n",
      "epoch:  1501 loss:  2.4296447265625\n",
      "epoch:  1526 loss:  2.418215234375\n",
      "epoch:  1551 loss:  2.375726171875\n",
      "epoch:  1576 loss:  2.3787009765625\n",
      "epoch:  1601 loss:  2.353743359375\n",
      "epoch:  1626 loss:  2.3310462890625\n",
      "epoch:  1651 loss:  2.3304873046875\n",
      "epoch:  1676 loss:  2.31664296875\n",
      "epoch:  1701 loss:  2.3118244140625\n",
      "epoch:  1726 loss:  2.28611796875\n",
      "epoch:  1751 loss:  2.3115908203125\n",
      "epoch:  1776 loss:  2.265047265625\n",
      "epoch:  1801 loss:  2.2148974609375\n"
     ]
    }
   ],
   "source": [
    "opt = torch.optim.Adam(model.parameters(), lr=params['learning_rate'])\n",
    "for epoch in range(params['epochs']):\n",
    "    loss_sum = 0\n",
    "    loss_angle_sum = 0\n",
    "    loss_angle_t_sum = 0\n",
    "    loss_angle_tt_sum = 0\n",
    "    count = 0 \n",
    "    model.train()\n",
    "    for i in range(len(data['z'])//params['batch_size']):\n",
    "        image_temp = image[i*params['batch_size']:(i+1)*params['batch_size'],:]\n",
    "        angle_temp = angle[i*params['batch_size']:(i+1)*params['batch_size'],:]\n",
    "        angle_t_temp = angle_t[i*params['batch_size']:(i+1)*params['batch_size'],:]\n",
    "        angle_tt_temp = angle_tt[i*params['batch_size']:(i+1)*params['batch_size'],:]\n",
    "        for j in range(image_temp.shape[0]):\n",
    "            input = Variable(torch.tensor(image_temp[j,:],dtype=torch.float32).to(device))\n",
    "            pre = model.forward(input)\n",
    "            angle_true = torch.tensor(angle_temp[j,:],dtype=torch.float32).to(device)\n",
    "            angle_t_true = torch.tensor(angle_t_temp[j,:],dtype=torch.float32).to(device)\n",
    "            angle_tt_true = torch.tensor(angle_tt_temp[j,:],dtype=torch.float32).to(device)\n",
    "            loss_angle = torch.abs(angle_true[1] - pre[1])\n",
    "            #loss_angle_t = torch.abs(angle_t_true - pre[1])\n",
    "            #loss_angle_tt = torch.abs(angle_tt_true[0] - pre[2]) + torch.abs(angle_tt_true[1]-pre[3])\n",
    "            loss = loss_angle \n",
    "            loss_sum += loss\n",
    "            loss_angle_sum += loss_angle\n",
    "            #loss_angle_t_sum += loss_angle_t\n",
    "            #loss_angle_tt_sum += loss_angle_tt\n",
    "            count += 1\n",
    "            opt.zero_grad()\n",
    "            loss.backward()\n",
    "            opt.step()\n",
    "        model.eval()\n",
    "    loss_log.append(loss_sum.item()/count)\n",
    "    if epoch % 25 == 0:\n",
    "        print('epoch: ', epoch+1, 'loss: ', loss_sum.item()/count)"
   ]
  },
  {
   "cell_type": "code",
   "execution_count": null,
   "id": "2b5f9fdc-23af-417e-84c2-1ce0cf61ac4c",
   "metadata": {},
   "outputs": [],
   "source": [
    "params['save_date'] = str(datetime.date.today())\n",
    "PATH = os.path.join(params['root_dir'], params['save_date'],params['save_ver'])\n",
    "print(PATH)"
   ]
  },
  {
   "cell_type": "code",
   "execution_count": null,
   "id": "5d2f0732-dbae-4e3c-9822-e924c8cd772f",
   "metadata": {},
   "outputs": [],
   "source": [
    "def saving(model,PATH):\n",
    "    if os.path.exists(PATH) == False:\n",
    "        os.makedirs(PATH)\n",
    "    model_PATH = os.path.join(PATH, 'model.pth')\n",
    "    torch.save(model.state_dict(), model_PATH)\n",
    "    params_PATH = os.path.join(PATH, 'params.txt')\n",
    "    with open(params_PATH, 'w') as f:\n",
    "        f.write(str(params))\n",
    "        f.close()\n",
    "    loss_PATH = os.path.join(PATH, 'loss_log.csv')\n",
    "    with open(loss_PATH, 'w') as f:\n",
    "        writer = csv.writer(f)\n",
    "        writer.writerow(loss_log)\n",
    "    #fig_PATH = os.path.join(PATH, 'loss.png') \n",
    "    #plt.savefig(fig_PATH)\n",
    "    print(\"data saved\")\n",
    "    return"
   ]
  },
  {
   "cell_type": "code",
   "execution_count": null,
   "id": "7da3e7a4-2f4a-4762-b73d-22a28daca5a3",
   "metadata": {},
   "outputs": [],
   "source": [
    "if params['if_save'] == True:\n",
    "    saving(model,PATH)"
   ]
  },
  {
   "cell_type": "code",
   "execution_count": null,
   "id": "b3fd32be-33e5-41ec-a778-351ea145a73f",
   "metadata": {},
   "outputs": [],
   "source": [
    "#plotting result\n",
    "plt.plot(loss_log)\n",
    "fig_PATH = os.path.join(PATH, 'loss.png') \n",
    "plt.savefig(fig_PATH, bbox_inches='tight', pad_inches = +0.1)\n",
    "plt.show()"
   ]
  },
  {
   "cell_type": "code",
   "execution_count": null,
   "id": "9b83a8ec-aba7-4f62-883d-b1edf428ef0d",
   "metadata": {},
   "outputs": [],
   "source": [
    "print(PATH)"
   ]
  },
  {
   "cell_type": "code",
   "execution_count": null,
   "id": "29d534ce-b7c1-4f7c-903d-491465843b0e",
   "metadata": {},
   "outputs": [],
   "source": []
  }
 ],
 "metadata": {
  "kernelspec": {
   "display_name": "Python 3 (ipykernel)",
   "language": "python",
   "name": "python3"
  },
  "language_info": {
   "codemirror_mode": {
    "name": "ipython",
    "version": 3
   },
   "file_extension": ".py",
   "mimetype": "text/x-python",
   "name": "python",
   "nbconvert_exporter": "python",
   "pygments_lexer": "ipython3",
   "version": "3.10.10"
  }
 },
 "nbformat": 4,
 "nbformat_minor": 5
}
