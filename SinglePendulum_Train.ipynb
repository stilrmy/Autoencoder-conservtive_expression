{
 "cells": [
  {
   "cell_type": "code",
   "execution_count": 1,
   "id": "3b4594b8-44af-42ae-8c3a-b1b41b17797c",
   "metadata": {},
   "outputs": [
    {
     "name": "stdout",
     "output_type": "stream",
     "text": [
      "5.825211091580805e-21\n"
     ]
    }
   ],
   "source": [
    "import numpy as np\n",
    "import sys \n",
    "\n",
    "from autoencoder_v3 import loading_coef,encoder_forward,encoder_derivative\n",
    "from sympy import symbols, simplify, derive_by_array\n",
    "from scipy.integrate import solve_ivp\n",
    "from sympy.physics.mechanics import *\n",
    "from sympy import *\n",
    "from numpy import sin, cos, tan, cosh, tanh, sinh\n",
    "from torch.autograd import Variable\n",
    "import sympy\n",
    "import torch\n",
    "import sys\n",
    "import HLsearch as HL\n",
    "import example_pendulum\n",
    "import time\n",
    "import matplotlib.pyplot as plt\n",
    "import os"
   ]
  },
  {
   "cell_type": "code",
   "execution_count": 2,
   "id": "137a6272-95dd-436e-bdec-325af11f94d7",
   "metadata": {},
   "outputs": [],
   "source": [
    "device = 'cuda:3'\n",
    "data = example_pendulum.get_pendulum_data(40)"
   ]
  },
  {
   "cell_type": "code",
   "execution_count": 3,
   "id": "3fc80d49-ea79-4516-b242-bed31a5a58ef",
   "metadata": {},
   "outputs": [],
   "source": [
    "np.random.seed(3)\n",
    "#torch.manual_seed(0)\n",
    "torch.cuda.manual_seed_all(3)\n",
    "\n",
    "torch.backends.cudnn.deterministic = True\n",
    "torch.backends.cudnn.benchmark = False"
   ]
  },
  {
   "cell_type": "code",
   "execution_count": 4,
   "id": "2489687a-e854-45d5-b549-c911709f869f",
   "metadata": {
    "tags": []
   },
   "outputs": [
    {
     "name": "stdout",
     "output_type": "stream",
     "text": [
      "loading params\n",
      "torch.Size([2601, 1024])\n",
      "torch.Size([1024, 512])\n",
      "torch.Size([512, 128])\n",
      "torch.Size([128, 64])\n",
      "torch.Size([64, 1])\n",
      "torch.Size([1024])\n",
      "torch.Size([512])\n",
      "torch.Size([128])\n",
      "torch.Size([64])\n",
      "torch.Size([1])\n",
      "torch.Size([1, 64])\n",
      "torch.Size([64, 128])\n",
      "torch.Size([128, 512])\n",
      "torch.Size([512, 1024])\n",
      "torch.Size([1024, 2601])\n",
      "torch.Size([64])\n",
      "torch.Size([128])\n",
      "torch.Size([512])\n",
      "torch.Size([1024])\n",
      "torch.Size([2601])\n"
     ]
    }
   ],
   "source": [
    "num_sample = 100\n",
    "training = True\n",
    "save = False\n",
    "noiselevel = 2e-2\n",
    "params={}\n",
    "environment = 'SERVER'\n",
    "if environment == 'LAPTOP':\n",
    "    file_route = R'C:\\Users\\87106\\OneDrive\\sindy\\progress\\AE'\n",
    "elif environment == 'DESTOP':\n",
    "    file_route = R'E:\\OneDrive\\sindy\\progress\\AE'\n",
    "elif environment == 'SERVER':\n",
    "    file_route = R'/mnt/ssd1/stilrmy/Autoencoder-conservtive_expression/progress'\n",
    "if environment == 'LAPTOP':\n",
    "    params['root_dir'] =R'C:\\Users\\87106\\OneDrive\\sindy\\progress'\n",
    "elif environment == 'DESTOP':\n",
    "    params['root_dir'] = R'E:\\OneDrive\\sindy\\progress'\n",
    "elif environment == 'SERVER':\n",
    "    params['root_dir'] = R'/mnt/ssd1/stilrmy/Autoencoder-conservtive_expression/progress'\n",
    "params['if_save'] = False\n",
    "params['save_date'] = '4-4'\n",
    "params['save_ver'] = '1'\n",
    "PATH = os.path.join(params['root_dir'], params['save_date'],'latent_detect',params['save_ver'])\n",
    "\n",
    "load_date = '4-13'\n",
    "load_ver = '3'\n",
    "widths = [1024,512,128,64]\n",
    "\n",
    "params['ver'] = 1\n",
    "params['date'] = '3-22'\n",
    "params['widths'] = widths\n",
    "params['activation'] = 'sigmoid'\n",
    "params['batch_size'] = 100\n",
    "params['learning_rate'] = 1e-4\n",
    "params['learning_rate_stage2'] = 1e-4\n",
    "params['threshold'] = 0.2\n",
    "params['num_epochs'] = 100000\n",
    "params['sample_frequency'] = 20\n",
    "params = loading_coef(params,load_date,load_ver,file_route,device)\n",
    "image = torch.from_numpy(data['x']).to(torch.float32).to(device)\n",
    "image_t = torch.from_numpy(data['dx']).to(torch.float32).to(device)\n",
    "image_tt = torch.from_numpy(data['ddx']).to(torch.float32).to(device)\n",
    "x = encoder_forward(image,params)\n",
    "#x = x.clone().detach().requires_grad_(True)\n",
    "x = x.cpu().detach().numpy()\n",
    "dx,ddx = encoder_derivative(image,image_t,image_tt,params)\n",
    "#dx = dx.clone().detach().requires_grad_(True) \n",
    "#ddx = ddx.clone().detach().requires_grad_(True)  \n",
    "dx = dx.cpu().detach().numpy()\n",
    "ddx = ddx.cpu().detach().numpy()\n",
    "X = []\n",
    "Xdot = []\n",
    "loss_history = []\n",
    "t = len(x)\n"
   ]
  },
  {
   "cell_type": "code",
   "execution_count": null,
   "id": "1c89ac43-b668-4a92-9262-6c2bc926a8bb",
   "metadata": {},
   "outputs": [],
   "source": []
  },
  {
   "cell_type": "code",
   "execution_count": 5,
   "id": "81a19249-2206-4776-bb1b-07503a48d4a1",
   "metadata": {},
   "outputs": [
    {
     "data": {
      "text/plain": [
       "'\\nmu, sigma = 0, noiselevel\\nnoise = np.random.normal(mu, sigma, X.shape[0])\\nfor i in range(X.shape[1]):\\n    X[:,i] = X[:,i]+noise\\n    Xdot[:,i] = Xdot[:,i]+noise\\n'"
      ]
     },
     "execution_count": 5,
     "metadata": {},
     "output_type": "execute_result"
    }
   ],
   "source": [
    "#adding noise\n",
    "#not modified yet\n",
    "\"\"\"\n",
    "mu, sigma = 0, noiselevel\n",
    "noise = np.random.normal(mu, sigma, X.shape[0])\n",
    "for i in range(X.shape[1]):\n",
    "    X[:,i] = X[:,i]+noise\n",
    "    Xdot[:,i] = Xdot[:,i]+noise\n",
    "\"\"\""
   ]
  },
  {
   "cell_type": "code",
   "execution_count": 6,
   "id": "971a3d0a-32ef-4bbf-a5d1-502df6cc2b2d",
   "metadata": {},
   "outputs": [
    {
     "name": "stdout",
     "output_type": "stream",
     "text": [
      "states are: (x0, x0_t)\n",
      "states derivatives are:  (x0_t, x0_tt)\n"
     ]
    }
   ],
   "source": [
    "states_dim = 2\n",
    "states = ()\n",
    "states_dot = ()\n",
    "for i in range(states_dim):\n",
    "    if(i<states_dim//2):\n",
    "        states = states + (symbols('x{}'.format(i)),)\n",
    "        states_dot = states_dot + (symbols('x{}_t'.format(i)),)\n",
    "    else:\n",
    "        states = states + (symbols('x{}_t'.format(i-states_dim//2)),)\n",
    "        states_dot = states_dot + (symbols('x{}_tt'.format(i-states_dim//2)),)\n",
    "print('states are:',states)\n",
    "print('states derivatives are: ', states_dot)\n",
    "#Turn from sympy to str\n",
    "states_sym = states\n",
    "states_dot_sym = states_dot\n",
    "states = list(str(descr) for descr in states)\n",
    "states_dot = list(str(descr) for descr in states_dot)"
   ]
  },
  {
   "cell_type": "code",
   "execution_count": 7,
   "id": "8a4a1603-0512-4b42-af82-44b6a7a5ca85",
   "metadata": {},
   "outputs": [
    {
     "name": "stdout",
     "output_type": "stream",
     "text": [
      "['x0', 'x0_t', 'sin(x0)', 'cos(x0)', 'x0**2', 'x0*x0_t', 'x0_t**2', 'x0*sin(x0)', 'x0_t*sin(x0)', 'sin(x0)**2', 'x0*cos(x0)', 'x0_t*cos(x0)', 'sin(x0)*cos(x0)', 'cos(x0)**2']\n"
     ]
    }
   ],
   "source": [
    "#build function expression for the library in str\n",
    "expr= HL.buildFunctionExpressions(2,states_dim,states,use_sine=True)\n",
    "#expr=['x0', 'x0_t', 'sin(x0)', 'cos(x0)', 'x0**2', 'x0*x0_t', \n",
    "#'x0_t**2', 'x0*sin(x0)', 'x0_t*sin(x0)', 'sin(x0)**2', \n",
    "#'x0*cos(x0)', 'x0_t*cos(x0)', 'sin(x0)*cos(x0)', 'cos(x0)**2']\n",
    "#expr=['cos(x0)','x0_t**2']\n",
    "\"a list of candidate function\"\n",
    "print(expr)\n",
    "coef = torch.ones(len(expr), device=device).data.uniform_(-10,10)\n",
    "coef = Variable(coef,requires_grad=True)"
   ]
  },
  {
   "cell_type": "code",
   "execution_count": 8,
   "id": "188d8a51-96f0-4202-a225-5db4d3672736",
   "metadata": {},
   "outputs": [],
   "source": [
    "#TBD\n",
    "#time derivative of the expressions\n",
    "expr_dot = ['x0_t','x0_tt','x0_t*cos(x0)','-x0_t*cos(x0)','2*x0_t*x0',\n",
    "           'x0_t**2+x0*x0_tt','2*x0_t*x0_tt','x0_t*sin(x0)+x0*x0_t*cos(x0)',\n",
    "           'x0_tt*sin(x0)+cos(x0)*x0_t**2','2*x0_t*sin(x0)*cos(x0)',\n",
    "           'x0_t*cos(x0)-x0*x0_t*sin(x0)','x0_tt*cos(x0)-sin(x0)*x0_t**2',\n",
    "           'x0_t*cos(x0)**2-x0_t*sin(x0)**2','-2*x0_t*sin(x0)*cos(x0)']"
   ]
  },
  {
   "cell_type": "code",
   "execution_count": 9,
   "id": "99c899b5-ffea-4b62-8499-fd67deb7493f",
   "metadata": {},
   "outputs": [
    {
     "name": "stdout",
     "output_type": "stream",
     "text": [
      "[[-0.49497148]\n",
      " [-0.4949869 ]\n",
      " [-0.49500147]\n",
      " ...\n",
      " [-0.49472696]\n",
      " [-0.49473348]\n",
      " [-0.494746  ]]\n"
     ]
    }
   ],
   "source": [
    "#load the latent variables and calculate the expressions\n",
    "expr_val = torch.ones(len(expr),t,device=device)\n",
    "expr_dot_val = torch.ones(len(expr),t,device=device)\n",
    "locals()[states[0]] = x\n",
    "locals()[states[1]] = dx\n",
    "locals()[states_dot[0]] = dx\n",
    "locals()[states_dot[1]] = ddx\n",
    "print(eval(str(expr[2])))\n",
    "for n in range(len(expr)):\n",
    "    temp = eval(str(expr[n]))\n",
    "    temp = torch.tensor(temp,dtype=torch.float32,device=device)\n",
    "    for i,j in enumerate(temp):\n",
    "        expr_val[n,i] = j\n",
    "    temp = eval(str(expr_dot[n]))\n",
    "    temp = torch.tensor(temp,dtype=torch.float32,device=device)\n",
    "    for i,j in enumerate(temp):\n",
    "        expr_dot_val[n,i] = j\n",
    "        \n",
    "\n"
   ]
  },
  {
   "cell_type": "code",
   "execution_count": 10,
   "id": "62bb0d8d-a154-481f-b992-0cacb0780b13",
   "metadata": {},
   "outputs": [],
   "source": [
    "def training_loop(coef,t,expr_val,expr_dot_val,params):\n",
    "    coef.requires_grad_(True)\n",
    "    loss_list = []\n",
    "    training_set_size = t\n",
    "    batch_size = params['batch_size']\n",
    "    opt = torch.optim.Adam([coef], lr=params['learning_rate'])\n",
    "    for i in range(training_set_size//batch_size):\n",
    "        expr_dot_val_batch = expr_dot_val[:,i*batch_size:(i+1)*batch_size]\n",
    "        loss = 1000*torch.mean(torch.abs(torch.matmul(coef,expr_dot_val_batch)))+len(expr)#+ 0.3*torch.abs(torch.mean(coef))\n",
    "        opt.zero_grad() \n",
    "        loss.backward()\n",
    "        opt.step()\n",
    "        loss_list.append(loss.item())\n",
    "    return coef,torch.tensor(loss_list).mean().item()\n",
    "        "
   ]
  },
  {
   "cell_type": "code",
   "execution_count": null,
   "id": "03c48880-a29c-4b97-ad7c-5a14852effce",
   "metadata": {
    "tags": []
   },
   "outputs": [],
   "source": [
    "for epoch in range(params['num_epochs']):\n",
    "    coef, loss = training_loop(coef,t,expr_val,expr_dot_val,params)\n",
    "    loss_history.append(loss)\n",
    "    if epoch >= 1500:\n",
    "        params['learning_rate'] =  params['learning_rate_stage2']\n",
    "    if epoch % params['sample_frequency'] == 0:\n",
    "        print(\"\\n\")\n",
    "        print(\"Epoch: \", epoch)\n",
    "        print(\"Average loss : \" , loss)\n",
    "        print(\"expression:\")\n",
    "        print(HL.generateExpression(coef.cpu().detach().numpy(),expr))\n",
    "        print(\"number of candidates: \", len(expr))\n",
    "    survive_index = ((torch.abs(coef) >= params['threshold']).nonzero(as_tuple=True)[0]).detach().cpu().numpy()\n",
    "    expr = np.array(expr)[survive_index].tolist()\n",
    "    coef = coef[survive_index].clone().detach()\n",
    "    expr_val = expr_val[survive_index,:].clone().detach()\n",
    "    expr_dot_val = expr_dot_val[survive_index,:].clone().detach()\n",
    "plt.plot(loss_history)\n"
   ]
  },
  {
   "cell_type": "code",
   "execution_count": null,
   "id": "233e3ab7-7c82-4043-bef3-87e20b5f611b",
   "metadata": {
    "tags": []
   },
   "outputs": [],
   "source": [
    "one = x.copy()\n",
    "one = one[:2500]\n",
    "second = dx*cos(x)\n",
    "second = second[:2500]\n",
    "coef = coef.to(device)\n",
    "#coef = coef.cpu()\n",
    "result = torch.matmul(coef,[one,two])\n",
    "result = result.cpu()\n",
    "plt.plot(result)"
   ]
  },
  {
   "cell_type": "code",
   "execution_count": null,
   "id": "29578fcb-c990-43da-b96d-5657bee940b4",
   "metadata": {
    "tags": []
   },
   "outputs": [],
   "source": [
    "coef_path = os.path.join(PATH,'coef.csv')\n",
    "expr_path = os.path.join(PATH,'expr.csv')\n",
    "with open(coef_path, 'w') as f:\n",
    "    writer = csv.writer(f)\n",
    "    writer.writerow(coef)\n",
    "with open(expr_path, 'w') as f:\n",
    "    writer = csv.writer(f)\n",
    "    writer.writerow(expr)"
   ]
  }
 ],
 "metadata": {
  "kernelspec": {
   "display_name": "pytorch",
   "language": "python",
   "name": "pytorch"
  },
  "language_info": {
   "codemirror_mode": {
    "name": "ipython",
    "version": 3
   },
   "file_extension": ".py",
   "mimetype": "text/x-python",
   "name": "python",
   "nbconvert_exporter": "python",
   "pygments_lexer": "ipython3",
   "version": "3.10.10"
  }
 },
 "nbformat": 4,
 "nbformat_minor": 5
}
