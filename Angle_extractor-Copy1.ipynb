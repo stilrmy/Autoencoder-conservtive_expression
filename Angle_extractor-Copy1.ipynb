{
 "cells": [
  {
   "cell_type": "code",
   "execution_count": 1,
   "id": "642c4171-7a8c-4fd1-a735-970960ccb3fa",
   "metadata": {},
   "outputs": [],
   "source": [
    "def __clear_env():\n",
    "    for key in globals().keys():\n",
    "        if not key.startswith(\"__\"):# 排除系统内建函数\n",
    "            globals().pop(key)\n",
    "__clear_env\n",
    "import example_pendulum_double_pendulum\n",
    "import torch; torch.manual_seed(0)\n",
    "import torch.nn as nn\n",
    "import torch.nn.functional as F\n",
    "import torch.utils\n",
    "import torch.distributions\n",
    "#import torchvision\n",
    "import numpy as np\n",
    "import os\n",
    "import matplotlib.pyplot as plt\n",
    "import pickle\n",
    "import csv\n",
    "import datetime\n",
    "from torch.autograd import Variable"
   ]
  },
  {
   "cell_type": "code",
   "execution_count": 2,
   "id": "76326faa-47ae-4ec0-8d70-812de3ec240a",
   "metadata": {},
   "outputs": [
    {
     "name": "stdout",
     "output_type": "stream",
     "text": [
      "./progress/2023-06-07/2\n"
     ]
    }
   ],
   "source": [
    "environment = \"server\"\n",
    "loss_log = []\n",
    "params = {}\n",
    "#params['learning_rate'] = trial.suggest_float('lr',0,1)\n",
    "params['epochs'] = 5000\n",
    "params['batch_size'] = 500\n",
    "if environment == 'laptop':\n",
    "    params['root_dir'] =R'C:\\Users\\87106\\OneDrive\\sindy\\progress'\n",
    "elif environment == 'desktop':\n",
    "    params['root_dir'] = R'E:\\OneDrive\\sindy\\progress'\n",
    "elif environment == 'server':\n",
    "    params['root_dir'] = R'./progress'\n",
    "params['learning_rate'] = 1e-7\n",
    "\n",
    "# save parameters\n",
    "params['if_save'] = True\n",
    "params['save_date'] = str(datetime.date.today())\n",
    "params['save_ver'] = '2'\n",
    "#load parameters\n",
    "params['if_load'] = True\n",
    "params['load_date'] = '2023-06-07'\n",
    "params['load_ver'] = '2'\n",
    "#noise setting\n",
    "params['adding_noise'] = False\n",
    "params['noise_type'] = 'angle_noise'\n",
    "params['noiselevel'] = 1e-3\n",
    "#pendulum length setting\n",
    "params['changing_length'] = True\n",
    "PATH = os.path.join(params['root_dir'], params['save_date'],params['save_ver'])\n",
    "loading_path = os.path.join(params['root_dir'], params['load_date'],params['load_ver'],'model.pth')\n",
    "print(PATH)"
   ]
  },
  {
   "cell_type": "code",
   "execution_count": 3,
   "id": "c6550da5-2d80-4a4e-b049-82e921c51a13",
   "metadata": {},
   "outputs": [
    {
     "name": "stdout",
     "output_type": "stream",
     "text": [
      "generating pendulum data, pendulum type: double pendulum\n",
      "(5000, 2)\n"
     ]
    }
   ],
   "source": [
    "device = 'cuda:0'\n",
    "data = example_pendulum_double_pendulum.get_pendulum_data(10,params)\n",
    "image = data['x']\n",
    "image_t = data['dx']\n",
    "image_tt = data['ddx']\n",
    "angle = data['z']\n",
    "angle_t = data['dz']\n",
    "angle_tt = data['ddz']\n",
    "print(angle.shape)"
   ]
  },
  {
   "cell_type": "code",
   "execution_count": 4,
   "id": "e6b3f118-fe7e-40aa-8727-e97655dd612a",
   "metadata": {},
   "outputs": [
    {
     "name": "stdout",
     "output_type": "stream",
     "text": [
      "(5000, 2)\n"
     ]
    }
   ],
   "source": [
    "print(angle_tt.shape)"
   ]
  },
  {
   "cell_type": "code",
   "execution_count": 5,
   "id": "5e2c1e4e-ec39-44e7-b546-a945a119721d",
   "metadata": {},
   "outputs": [],
   "source": [
    "class angle_predict(nn.Module):\n",
    "    def __init__(self):\n",
    "        super(angle_predict, self).__init__()\n",
    "        self.fc1 = nn.Linear(2601, 1024)\n",
    "        self.fc2 = nn.Linear(1024, 512)\n",
    "        self.fc3 = nn.Linear(512, 256)\n",
    "        self.fc4 = nn.Linear(256, 64)\n",
    "        self.fc5 = nn.Linear(64, 4)\n",
    "    def forward(self, x):\n",
    "        m = nn.ReLU()\n",
    "        x = self.fc1(x)\n",
    "        x = m(x)\n",
    "        x = self.fc2(x)\n",
    "        x = m(x)\n",
    "        x = self.fc3(x)\n",
    "        x = m(x)\n",
    "        x = self.fc4(x)\n",
    "        x = m(x) \n",
    "        x = self.fc5(x) \n",
    "        return x\n",
    "model = angle_predict()\n",
    "if params['if_load'] == True:\n",
    "    model.load_state_dict(torch.load(loading_path))\n",
    "model = model.to(device)"
   ]
  },
  {
   "cell_type": "code",
   "execution_count": null,
   "id": "10e0f4c1-9ada-4375-8b98-d0e332238be3",
   "metadata": {
    "tags": []
   },
   "outputs": [
    {
     "name": "stdout",
     "output_type": "stream",
     "text": [
      "epoch:  1 loss:  16.6497125 \t loss_angle: 6.1255546875 \t loss_angle_tt: 10.5241390625\n",
      "epoch:  51 loss:  16.6359109375 \t loss_angle: 6.123378125 \t loss_angle_tt: 10.51253125\n",
      "epoch:  101 loss:  16.6191765625 \t loss_angle: 6.1214796875 \t loss_angle_tt: 10.4976890625\n",
      "epoch:  151 loss:  16.5997796875 \t loss_angle: 6.119687890625 \t loss_angle_tt: 10.48010390625\n",
      "epoch:  201 loss:  16.5831921875 \t loss_angle: 6.1177453125 \t loss_angle_tt: 10.46546328125\n",
      "epoch:  251 loss:  16.5653125 \t loss_angle: 6.11573984375 \t loss_angle_tt: 10.44956171875\n",
      "epoch:  301 loss:  16.5475625 \t loss_angle: 6.11392421875 \t loss_angle_tt: 10.43366015625\n",
      "epoch:  351 loss:  16.5291375 \t loss_angle: 6.112159765625 \t loss_angle_tt: 10.41699609375\n",
      "epoch:  401 loss:  16.5131953125 \t loss_angle: 6.110282421875 \t loss_angle_tt: 10.4029109375\n",
      "epoch:  451 loss:  16.4953125 \t loss_angle: 6.108418359375 \t loss_angle_tt: 10.3868984375\n",
      "epoch:  501 loss:  16.4802875 \t loss_angle: 6.106668359375 \t loss_angle_tt: 10.3736546875\n",
      "epoch:  551 loss:  16.46204375 \t loss_angle: 6.105018359375 \t loss_angle_tt: 10.35705\n",
      "epoch:  601 loss:  16.4474046875 \t loss_angle: 6.10332578125 \t loss_angle_tt: 10.34408828125\n",
      "epoch:  651 loss:  16.43085625 \t loss_angle: 6.10187890625 \t loss_angle_tt: 10.328975\n",
      "epoch:  701 loss:  16.4133265625 \t loss_angle: 6.10022109375 \t loss_angle_tt: 10.3131265625\n",
      "epoch:  751 loss:  16.3984453125 \t loss_angle: 6.098832421875 \t loss_angle_tt: 10.29958046875\n",
      "epoch:  801 loss:  16.38360625 \t loss_angle: 6.09749453125 \t loss_angle_tt: 10.2861203125\n",
      "epoch:  851 loss:  16.3657609375 \t loss_angle: 6.0959203125 \t loss_angle_tt: 10.269825\n",
      "epoch:  901 loss:  16.349215625 \t loss_angle: 6.094608984375 \t loss_angle_tt: 10.25462265625\n",
      "epoch:  951 loss:  16.3350609375 \t loss_angle: 6.093015234375 \t loss_angle_tt: 10.2420328125\n",
      "epoch:  1001 loss:  16.3188171875 \t loss_angle: 6.09190078125 \t loss_angle_tt: 10.22691953125\n",
      "epoch:  1051 loss:  16.303671875 \t loss_angle: 6.090461328125 \t loss_angle_tt: 10.2132015625\n",
      "epoch:  1101 loss:  16.288634375 \t loss_angle: 6.089178515625 \t loss_angle_tt: 10.19945703125\n",
      "epoch:  1151 loss:  16.273121875 \t loss_angle: 6.08777734375 \t loss_angle_tt: 10.18539921875\n",
      "epoch:  1201 loss:  16.25629375 \t loss_angle: 6.086482421875 \t loss_angle_tt: 10.16982578125\n",
      "epoch:  1251 loss:  16.24195 \t loss_angle: 6.08516328125 \t loss_angle_tt: 10.15680234375\n",
      "epoch:  1301 loss:  16.2272734375 \t loss_angle: 6.08398984375 \t loss_angle_tt: 10.1432765625\n",
      "epoch:  1351 loss:  16.21265625 \t loss_angle: 6.0827609375 \t loss_angle_tt: 10.1298875\n",
      "epoch:  1401 loss:  16.19841875 \t loss_angle: 6.081524609375 \t loss_angle_tt: 10.116890625\n",
      "epoch:  1451 loss:  16.1848765625 \t loss_angle: 6.080163671875 \t loss_angle_tt: 10.10471171875\n",
      "epoch:  1501 loss:  16.1694328125 \t loss_angle: 6.07913125 \t loss_angle_tt: 10.09030078125\n",
      "epoch:  1551 loss:  16.15580625 \t loss_angle: 6.077601953125 \t loss_angle_tt: 10.07821171875\n",
      "epoch:  1601 loss:  16.14323125 \t loss_angle: 6.07659609375 \t loss_angle_tt: 10.06665859375\n",
      "epoch:  1651 loss:  16.1284265625 \t loss_angle: 6.075139453125 \t loss_angle_tt: 10.0533046875\n",
      "epoch:  1701 loss:  16.11268125 \t loss_angle: 6.074215234375 \t loss_angle_tt: 10.03845859375\n",
      "epoch:  1751 loss:  16.09925625 \t loss_angle: 6.072934765625 \t loss_angle_tt: 10.02628125\n",
      "epoch:  1801 loss:  16.0862015625 \t loss_angle: 6.071901171875 \t loss_angle_tt: 10.01428671875\n",
      "epoch:  1851 loss:  16.0710484375 \t loss_angle: 6.0706546875 \t loss_angle_tt: 10.00041796875\n",
      "epoch:  1901 loss:  16.0571421875 \t loss_angle: 6.069559375 \t loss_angle_tt: 9.9875953125\n",
      "epoch:  1951 loss:  16.0449828125 \t loss_angle: 6.068760546875 \t loss_angle_tt: 9.97624609375\n",
      "epoch:  2001 loss:  16.0300015625 \t loss_angle: 6.067605078125 \t loss_angle_tt: 9.9623875\n",
      "epoch:  2051 loss:  16.017509375 \t loss_angle: 6.0666578125 \t loss_angle_tt: 9.95084453125\n",
      "epoch:  2101 loss:  16.0042375 \t loss_angle: 6.06553984375 \t loss_angle_tt: 9.9386859375\n",
      "epoch:  2151 loss:  15.988596875 \t loss_angle: 6.0642984375 \t loss_angle_tt: 9.92428515625\n",
      "epoch:  2201 loss:  15.9765375 \t loss_angle: 6.06318359375 \t loss_angle_tt: 9.91334765625\n",
      "epoch:  2251 loss:  15.96300625 \t loss_angle: 6.06207734375 \t loss_angle_tt: 9.90091953125\n",
      "epoch:  2301 loss:  15.9505015625 \t loss_angle: 6.061045703125 \t loss_angle_tt: 9.889484375\n",
      "epoch:  2351 loss:  15.93640625 \t loss_angle: 6.05985625 \t loss_angle_tt: 9.87655390625\n",
      "epoch:  2401 loss:  15.9234375 \t loss_angle: 6.058825 \t loss_angle_tt: 9.864628125\n",
      "epoch:  2451 loss:  15.9090640625 \t loss_angle: 6.057767578125 \t loss_angle_tt: 9.85124765625\n",
      "epoch:  2501 loss:  15.8959953125 \t loss_angle: 6.056475390625 \t loss_angle_tt: 9.8395328125\n",
      "epoch:  2551 loss:  15.882975 \t loss_angle: 6.055371875 \t loss_angle_tt: 9.827578125\n",
      "epoch:  2601 loss:  15.87015625 \t loss_angle: 6.05427265625 \t loss_angle_tt: 9.815896875\n",
      "epoch:  2651 loss:  15.8571171875 \t loss_angle: 6.0530390625 \t loss_angle_tt: 9.80404921875\n",
      "epoch:  2701 loss:  15.8443890625 \t loss_angle: 6.052201171875 \t loss_angle_tt: 9.79220703125\n",
      "epoch:  2751 loss:  15.8315109375 \t loss_angle: 6.051040234375 \t loss_angle_tt: 9.78046796875\n"
     ]
    }
   ],
   "source": [
    "opt = torch.optim.Adam(model.parameters(), lr=params['learning_rate'])\n",
    "for epoch in range(params['epochs']):\n",
    "    loss_sum = 0\n",
    "    loss_angle_sum = 0\n",
    "    loss_angle_t_sum = 0\n",
    "    loss_angle_tt_sum = 0\n",
    "    count = 0 \n",
    "    model.train()\n",
    "    for i in range(len(data['z'])//params['batch_size']):\n",
    "        image_temp = image[i*params['batch_size']:(i+1)*params['batch_size'],:]\n",
    "        angle_temp = angle[i*params['batch_size']:(i+1)*params['batch_size'],:]\n",
    "        angle_t_temp = angle_t[i*params['batch_size']:(i+1)*params['batch_size'],:]\n",
    "        angle_tt_temp = angle_tt[i*params['batch_size']:(i+1)*params['batch_size'],:]\n",
    "        for j in range(image_temp.shape[0]):\n",
    "            input = Variable(torch.tensor(image_temp[j,:],dtype=torch.float32).to(device))\n",
    "            pre = model.forward(input)\n",
    "            angle_true = torch.tensor(angle_temp[j,:],dtype=torch.float32).to(device)\n",
    "            angle_t_true = torch.tensor(angle_t_temp[j,:],dtype=torch.float32).to(device)\n",
    "            angle_tt_true = torch.tensor(angle_tt_temp[j,:],dtype=torch.float32).to(device)\n",
    "            loss_angle = torch.abs(angle_true[0] - pre[0]) + torch.abs(angle_true[1]-pre[1])\n",
    "            #loss_angle_t = torch.abs(angle_t_true - pre[1])\n",
    "            loss_angle_tt = torch.abs(angle_tt_true[0] - pre[2]) + torch.abs(angle_tt_true[1]-pre[3])\n",
    "            loss = loss_angle + loss_angle_tt\n",
    "            loss_sum += loss\n",
    "            loss_angle_sum += loss_angle\n",
    "            #loss_angle_t_sum += loss_angle_t\n",
    "            loss_angle_tt_sum += loss_angle_tt\n",
    "            count += 1\n",
    "            opt.zero_grad()\n",
    "            loss.backward()\n",
    "            opt.step()\n",
    "        model.eval()\n",
    "    loss_log.append(loss_sum.item()/count)\n",
    "    if epoch % 50 == 0:\n",
    "        print('epoch: ', epoch+1, 'loss: ', loss_sum.item()/count,\n",
    "          '\\t loss_angle:', loss_angle_sum.item()/count, \n",
    "          '\\t loss_angle_tt:',loss_angle_tt_sum.item()/count)"
   ]
  },
  {
   "cell_type": "code",
   "execution_count": null,
   "id": "2b5f9fdc-23af-417e-84c2-1ce0cf61ac4c",
   "metadata": {},
   "outputs": [],
   "source": [
    "params['save_date'] = str(datetime.date.today())\n",
    "PATH = os.path.join(params['root_dir'], params['save_date'],params['save_ver'])\n",
    "print(PATH)"
   ]
  },
  {
   "cell_type": "code",
   "execution_count": null,
   "id": "5d2f0732-dbae-4e3c-9822-e924c8cd772f",
   "metadata": {},
   "outputs": [],
   "source": [
    "def saving(model,PATH):\n",
    "    if os.path.exists(PATH) == False:\n",
    "        os.makedirs(PATH)\n",
    "    model_PATH = os.path.join(PATH, 'model.pth')\n",
    "    torch.save(model.state_dict(), model_PATH)\n",
    "    params_PATH = os.path.join(PATH, 'params.txt')\n",
    "    with open(params_PATH, 'w') as f:\n",
    "        f.write(str(params))\n",
    "        f.close()\n",
    "    loss_PATH = os.path.join(PATH, 'loss_log.csv')\n",
    "    with open(loss_PATH, 'w') as f:\n",
    "        writer = csv.writer(f)\n",
    "        writer.writerow(loss_log)\n",
    "    #fig_PATH = os.path.join(PATH, 'loss.png') \n",
    "    #plt.savefig(fig_PATH)\n",
    "    print(\"data saved\")\n",
    "    return"
   ]
  },
  {
   "cell_type": "code",
   "execution_count": null,
   "id": "7da3e7a4-2f4a-4762-b73d-22a28daca5a3",
   "metadata": {},
   "outputs": [],
   "source": [
    "if params['if_save'] == True:\n",
    "    saving(model,PATH)"
   ]
  },
  {
   "cell_type": "code",
   "execution_count": null,
   "id": "b3fd32be-33e5-41ec-a778-351ea145a73f",
   "metadata": {},
   "outputs": [],
   "source": [
    "#plotting result\n",
    "plt.plot(loss_log)\n",
    "fig_PATH = os.path.join(PATH, 'loss.png') \n",
    "plt.savefig(fig_PATH, bbox_inches='tight', pad_inches = +0.1)\n",
    "plt.show()"
   ]
  },
  {
   "cell_type": "code",
   "execution_count": null,
   "id": "9b83a8ec-aba7-4f62-883d-b1edf428ef0d",
   "metadata": {},
   "outputs": [],
   "source": [
    "print(PATH)"
   ]
  },
  {
   "cell_type": "markdown",
   "id": "de339f54-69e7-43da-a73a-5f676d088e04",
   "metadata": {},
   "source": []
  }
 ],
 "metadata": {
  "kernelspec": {
   "display_name": "pytorch",
   "language": "python",
   "name": "pytorch"
  },
  "language_info": {
   "codemirror_mode": {
    "name": "ipython",
    "version": 3
   },
   "file_extension": ".py",
   "mimetype": "text/x-python",
   "name": "python",
   "nbconvert_exporter": "python",
   "pygments_lexer": "ipython3",
   "version": "3.10.10"
  }
 },
 "nbformat": 4,
 "nbformat_minor": 5
}
