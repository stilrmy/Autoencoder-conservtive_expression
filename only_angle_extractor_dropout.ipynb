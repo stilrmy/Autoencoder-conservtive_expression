{
 "cells": [
  {
   "cell_type": "code",
   "execution_count": 1,
   "id": "642c4171-7a8c-4fd1-a735-970960ccb3fa",
   "metadata": {},
   "outputs": [],
   "source": [
    "def __clear_env():\n",
    "    for key in globals().keys():\n",
    "        if not key.startswith(\"__\"):# 排除系统内建函数\n",
    "            globals().pop(key)\n",
    "__clear_env\n",
    "import example_pendulum_double_pendulum\n",
    "import torch; torch.manual_seed(0)\n",
    "import torch.nn as nn\n",
    "import torch.nn.functional as F\n",
    "import torch.utils\n",
    "import torch.distributions\n",
    "#import torchvision\n",
    "import numpy as np\n",
    "import os\n",
    "import matplotlib.pyplot as plt\n",
    "import pickle\n",
    "import csv\n",
    "import datetime\n",
    "from torch.autograd import Variable"
   ]
  },
  {
   "cell_type": "code",
   "execution_count": 2,
   "id": "76326faa-47ae-4ec0-8d70-812de3ec240a",
   "metadata": {},
   "outputs": [
    {
     "name": "stdout",
     "output_type": "stream",
     "text": [
      "./progress/angle/2023-06-16/3\n"
     ]
    }
   ],
   "source": [
    "environment = \"server\"\n",
    "loss_log = []\n",
    "params = {}\n",
    "#params['learning_rate'] = trial.suggest_float('lr',0,1)\n",
    "params['epochs'] = 2000\n",
    "params['batch_size'] = 50\n",
    "if environment == 'laptop':\n",
    "    params['root_dir'] =R'C:\\Users\\87106\\OneDrive\\sindy\\progress'\n",
    "elif environment == 'desktop':\n",
    "    params['root_dir'] = R'E:\\OneDrive\\sindy\\progress'\n",
    "elif environment == 'server':\n",
    "    params['root_dir'] = R'./progress/angle'\n",
    "params['learning_rate'] = 1e-6\n",
    "# save parameters\n",
    "params['if_save'] = True\n",
    "params['save_date'] = str(datetime.date.today())\n",
    "params['save_ver'] = '3'\n",
    "#load parameters\n",
    "params['if_load'] = False\n",
    "params['load_date'] = '2023-06-16'\n",
    "params['load_ver'] = '2'\n",
    "#noise setting\n",
    "params['adding_noise'] = False\n",
    "params['noise_type'] = 'angle_noise'\n",
    "params['noiselevel'] = 1e-3\n",
    "#pendulum length setting\n",
    "params['changing_length'] = True\n",
    "PATH = os.path.join(params['root_dir'], params['save_date'],params['save_ver'])\n",
    "loading_path = os.path.join(params['root_dir'], params['load_date'],params['load_ver'],'model.pth')\n",
    "print(PATH)"
   ]
  },
  {
   "cell_type": "code",
   "execution_count": 3,
   "id": "c6550da5-2d80-4a4e-b049-82e921c51a13",
   "metadata": {},
   "outputs": [
    {
     "name": "stdout",
     "output_type": "stream",
     "text": [
      "generating pendulum data, pendulum type: double pendulum\n",
      "(5000, 2)\n"
     ]
    }
   ],
   "source": [
    "device = 'cuda:7'\n",
    "data = example_pendulum_double_pendulum.get_pendulum_data(10,params)\n",
    "image = data['x']\n",
    "image_t = data['dx']\n",
    "image_tt = data['ddx']\n",
    "angle = data['z']\n",
    "angle_t = data['dz']\n",
    "angle_tt = data['ddz']\n",
    "print(angle.shape)"
   ]
  },
  {
   "cell_type": "code",
   "execution_count": 4,
   "id": "e6b3f118-fe7e-40aa-8727-e97655dd612a",
   "metadata": {},
   "outputs": [
    {
     "name": "stdout",
     "output_type": "stream",
     "text": [
      "(5000, 2)\n"
     ]
    }
   ],
   "source": [
    "print(angle_tt.shape)"
   ]
  },
  {
   "cell_type": "code",
   "execution_count": 5,
   "id": "5e2c1e4e-ec39-44e7-b546-a945a119721d",
   "metadata": {},
   "outputs": [],
   "source": [
    "class angle_predict(nn.Module):\n",
    "    def __init__(self):\n",
    "        super(angle_predict, self).__init__()\n",
    "        self.fc1 = nn.Linear(2601, 1024)\n",
    "        self.dropout = nn.Dropout(0.4)\n",
    "        self.fc2 = nn.Linear(1024, 512)\n",
    "        self.fc3 = nn.Linear(512, 256)\n",
    "        self.fc4 = nn.Linear(256, 64) \n",
    "        self.fc5 = nn.Linear(64, 2)\n",
    "    def forward(self, x):\n",
    "        m = nn.ReLU()\n",
    "        x = self.fc1(x）\n",
    "        x = m(x)\n",
    "        x = self.dropout(x)\n",
    "        x = self.fc2(x)\n",
    "        x = m(x)\n",
    "        x = self.dropout(x)\n",
    "        x = self.fc3(x)\n",
    "        x = m(x) \n",
    "        x = self.dropout(x)\n",
    "        x = self.fc4(x)\n",
    "        x = m(x)\n",
    "        x = self.dropout(x)\n",
    "        x = self.fc5(x) \n",
    "        return x\n",
    "model = angle_predict()\n",
    "if params['if_load'] == True:\n",
    "    model.load_state_dict(torch.load(loading_path))\n",
    "model = model.to(device)"
   ]
  },
  {
   "cell_type": "code",
   "execution_count": 6,
   "id": "10e0f4c1-9ada-4375-8b98-d0e332238be3",
   "metadata": {
    "tags": []
   },
   "outputs": [
    {
     "name": "stdout",
     "output_type": "stream",
     "text": [
      "epoch:  1 loss:  8.45871640625\n",
      "epoch:  26 loss:  6.31845078125\n",
      "epoch:  51 loss:  5.90264453125\n",
      "epoch:  76 loss:  5.6889484375\n",
      "epoch:  101 loss:  5.53860703125\n",
      "epoch:  126 loss:  5.427430078125\n"
     ]
    },
    {
     "ename": "KeyboardInterrupt",
     "evalue": "",
     "output_type": "error",
     "traceback": [
      "\u001b[0;31m---------------------------------------------------------------------------\u001b[0m",
      "\u001b[0;31mKeyboardInterrupt\u001b[0m                         Traceback (most recent call last)",
      "Cell \u001b[0;32mIn[6], line 30\u001b[0m\n\u001b[1;32m     28\u001b[0m     count \u001b[38;5;241m+\u001b[39m\u001b[38;5;241m=\u001b[39m \u001b[38;5;241m1\u001b[39m\n\u001b[1;32m     29\u001b[0m     opt\u001b[38;5;241m.\u001b[39mzero_grad()\n\u001b[0;32m---> 30\u001b[0m     \u001b[43mloss\u001b[49m\u001b[38;5;241;43m.\u001b[39;49m\u001b[43mbackward\u001b[49m\u001b[43m(\u001b[49m\u001b[43m)\u001b[49m\n\u001b[1;32m     31\u001b[0m     opt\u001b[38;5;241m.\u001b[39mstep()\n\u001b[1;32m     32\u001b[0m model\u001b[38;5;241m.\u001b[39meval()\n",
      "File \u001b[0;32m/mnt/ssd1/stilrmy/anaconda3/envs/pytorch/lib/python3.10/site-packages/torch/_tensor.py:487\u001b[0m, in \u001b[0;36mTensor.backward\u001b[0;34m(self, gradient, retain_graph, create_graph, inputs)\u001b[0m\n\u001b[1;32m    477\u001b[0m \u001b[38;5;28;01mif\u001b[39;00m has_torch_function_unary(\u001b[38;5;28mself\u001b[39m):\n\u001b[1;32m    478\u001b[0m     \u001b[38;5;28;01mreturn\u001b[39;00m handle_torch_function(\n\u001b[1;32m    479\u001b[0m         Tensor\u001b[38;5;241m.\u001b[39mbackward,\n\u001b[1;32m    480\u001b[0m         (\u001b[38;5;28mself\u001b[39m,),\n\u001b[0;32m   (...)\u001b[0m\n\u001b[1;32m    485\u001b[0m         inputs\u001b[38;5;241m=\u001b[39minputs,\n\u001b[1;32m    486\u001b[0m     )\n\u001b[0;32m--> 487\u001b[0m \u001b[43mtorch\u001b[49m\u001b[38;5;241;43m.\u001b[39;49m\u001b[43mautograd\u001b[49m\u001b[38;5;241;43m.\u001b[39;49m\u001b[43mbackward\u001b[49m\u001b[43m(\u001b[49m\n\u001b[1;32m    488\u001b[0m \u001b[43m    \u001b[49m\u001b[38;5;28;43mself\u001b[39;49m\u001b[43m,\u001b[49m\u001b[43m \u001b[49m\u001b[43mgradient\u001b[49m\u001b[43m,\u001b[49m\u001b[43m \u001b[49m\u001b[43mretain_graph\u001b[49m\u001b[43m,\u001b[49m\u001b[43m \u001b[49m\u001b[43mcreate_graph\u001b[49m\u001b[43m,\u001b[49m\u001b[43m \u001b[49m\u001b[43minputs\u001b[49m\u001b[38;5;241;43m=\u001b[39;49m\u001b[43minputs\u001b[49m\n\u001b[1;32m    489\u001b[0m \u001b[43m\u001b[49m\u001b[43m)\u001b[49m\n",
      "File \u001b[0;32m/mnt/ssd1/stilrmy/anaconda3/envs/pytorch/lib/python3.10/site-packages/torch/autograd/__init__.py:200\u001b[0m, in \u001b[0;36mbackward\u001b[0;34m(tensors, grad_tensors, retain_graph, create_graph, grad_variables, inputs)\u001b[0m\n\u001b[1;32m    195\u001b[0m     retain_graph \u001b[38;5;241m=\u001b[39m create_graph\n\u001b[1;32m    197\u001b[0m \u001b[38;5;66;03m# The reason we repeat same the comment below is that\u001b[39;00m\n\u001b[1;32m    198\u001b[0m \u001b[38;5;66;03m# some Python versions print out the first line of a multi-line function\u001b[39;00m\n\u001b[1;32m    199\u001b[0m \u001b[38;5;66;03m# calls in the traceback and some print out the last line\u001b[39;00m\n\u001b[0;32m--> 200\u001b[0m \u001b[43mVariable\u001b[49m\u001b[38;5;241;43m.\u001b[39;49m\u001b[43m_execution_engine\u001b[49m\u001b[38;5;241;43m.\u001b[39;49m\u001b[43mrun_backward\u001b[49m\u001b[43m(\u001b[49m\u001b[43m  \u001b[49m\u001b[38;5;66;43;03m# Calls into the C++ engine to run the backward pass\u001b[39;49;00m\n\u001b[1;32m    201\u001b[0m \u001b[43m    \u001b[49m\u001b[43mtensors\u001b[49m\u001b[43m,\u001b[49m\u001b[43m \u001b[49m\u001b[43mgrad_tensors_\u001b[49m\u001b[43m,\u001b[49m\u001b[43m \u001b[49m\u001b[43mretain_graph\u001b[49m\u001b[43m,\u001b[49m\u001b[43m \u001b[49m\u001b[43mcreate_graph\u001b[49m\u001b[43m,\u001b[49m\u001b[43m \u001b[49m\u001b[43minputs\u001b[49m\u001b[43m,\u001b[49m\n\u001b[1;32m    202\u001b[0m \u001b[43m    \u001b[49m\u001b[43mallow_unreachable\u001b[49m\u001b[38;5;241;43m=\u001b[39;49m\u001b[38;5;28;43;01mTrue\u001b[39;49;00m\u001b[43m,\u001b[49m\u001b[43m \u001b[49m\u001b[43maccumulate_grad\u001b[49m\u001b[38;5;241;43m=\u001b[39;49m\u001b[38;5;28;43;01mTrue\u001b[39;49;00m\u001b[43m)\u001b[49m\n",
      "\u001b[0;31mKeyboardInterrupt\u001b[0m: "
     ]
    }
   ],
   "source": [
    "opt = torch.optim.Adam(model.parameters(), lr=params['learning_rate'])\n",
    "for epoch in range(params['epochs']):\n",
    "    loss_sum = 0\n",
    "    loss_angle_sum = 0\n",
    "    loss_angle_t_sum = 0\n",
    "    loss_angle_tt_sum = 0\n",
    "    count = 0 \n",
    "    model.train()\n",
    "    for i in range(len(data['z'])//params['batch_size']):\n",
    "        image_temp = image[i*params['batch_size']:(i+1)*params['batch_size'],:]\n",
    "        angle_temp = angle[i*params['batch_size']:(i+1)*params['batch_size'],:]\n",
    "        angle_t_temp = angle_t[i*params['batch_size']:(i+1)*params['batch_size'],:]\n",
    "        angle_tt_temp = angle_tt[i*params['batch_size']:(i+1)*params['batch_size'],:]\n",
    "        for j in range(image_temp.shape[0]):\n",
    "            input = Variable(torch.tensor(image_temp[j,:],dtype=torch.float32).to(device))\n",
    "            pre = model.forward(input)\n",
    "            angle_true = torch.tensor(angle_temp[j,:],dtype=torch.float32).to(device)\n",
    "            angle_t_true = torch.tensor(angle_t_temp[j,:],dtype=torch.float32).to(device)\n",
    "            angle_tt_true = torch.tensor(angle_tt_temp[j,:],dtype=torch.float32).to(device)\n",
    "            loss_angle = torch.abs(angle_true[0] - pre[0]) + torch.abs(angle_true[1]-pre[1])\n",
    "            #loss_angle_t = torch.abs(angle_t_true - pre[1])\n",
    "            #loss_angle_tt = torch.abs(angle_tt_true[0] - pre[2]) + torch.abs(angle_tt_true[1]-pre[3])\n",
    "            loss = loss_angle \n",
    "            loss_sum += loss\n",
    "            loss_angle_sum += loss_angle\n",
    "            #loss_angle_t_sum += loss_angle_t\n",
    "            #loss_angle_tt_sum += loss_angle_tt\n",
    "            count += 1\n",
    "            opt.zero_grad()\n",
    "            loss.backward()\n",
    "            opt.step()\n",
    "        model.eval()\n",
    "    loss_log.append(loss_sum.item()/count)\n",
    "    if epoch % 25 == 0:\n",
    "        print('epoch: ', epoch+1, 'loss: ', loss_sum.item()/count)"
   ]
  },
  {
   "cell_type": "code",
   "execution_count": null,
   "id": "2b5f9fdc-23af-417e-84c2-1ce0cf61ac4c",
   "metadata": {},
   "outputs": [],
   "source": [
    "params['save_date'] = str(datetime.date.today())\n",
    "PATH = os.path.join(params['root_dir'], params['save_date'],params['save_ver'])\n",
    "print(PATH)"
   ]
  },
  {
   "cell_type": "code",
   "execution_count": null,
   "id": "5d2f0732-dbae-4e3c-9822-e924c8cd772f",
   "metadata": {},
   "outputs": [],
   "source": [
    "def saving(model,PATH):\n",
    "    if os.path.exists(PATH) == False:\n",
    "        os.makedirs(PATH)\n",
    "    model_PATH = os.path.join(PATH, 'model.pth')\n",
    "    torch.save(model.state_dict(), model_PATH)\n",
    "    params_PATH = os.path.join(PATH, 'params.txt')\n",
    "    with open(params_PATH, 'w') as f:\n",
    "        f.write(str(params))\n",
    "        f.close()\n",
    "    loss_PATH = os.path.join(PATH, 'loss_log.csv')\n",
    "    with open(loss_PATH, 'w') as f:\n",
    "        writer = csv.writer(f)\n",
    "        writer.writerow(loss_log)\n",
    "    #fig_PATH = os.path.join(PATH, 'loss.png') \n",
    "    #plt.savefig(fig_PATH)\n",
    "    print(\"data saved\")\n",
    "    return"
   ]
  },
  {
   "cell_type": "code",
   "execution_count": null,
   "id": "7da3e7a4-2f4a-4762-b73d-22a28daca5a3",
   "metadata": {},
   "outputs": [],
   "source": [
    "if params['if_save'] == True:\n",
    "    saving(model,PATH)"
   ]
  },
  {
   "cell_type": "code",
   "execution_count": null,
   "id": "b3fd32be-33e5-41ec-a778-351ea145a73f",
   "metadata": {},
   "outputs": [],
   "source": [
    "#plotting result\n",
    "plt.plot(loss_log)\n",
    "fig_PATH = os.path.join(PATH, 'loss.png') \n",
    "plt.savefig(fig_PATH, bbox_inches='tight', pad_inches = +0.1)\n",
    "plt.show()"
   ]
  },
  {
   "cell_type": "code",
   "execution_count": null,
   "id": "9b83a8ec-aba7-4f62-883d-b1edf428ef0d",
   "metadata": {},
   "outputs": [],
   "source": [
    "print(PATH)"
   ]
  },
  {
   "cell_type": "code",
   "execution_count": null,
   "id": "29d534ce-b7c1-4f7c-903d-491465843b0e",
   "metadata": {},
   "outputs": [],
   "source": []
  }
 ],
 "metadata": {
  "kernelspec": {
   "display_name": "Python 3 (ipykernel)",
   "language": "python",
   "name": "python3"
  },
  "language_info": {
   "codemirror_mode": {
    "name": "ipython",
    "version": 3
   },
   "file_extension": ".py",
   "mimetype": "text/x-python",
   "name": "python",
   "nbconvert_exporter": "python",
   "pygments_lexer": "ipython3",
   "version": "3.10.10"
  }
 },
 "nbformat": 4,
 "nbformat_minor": 5
}
